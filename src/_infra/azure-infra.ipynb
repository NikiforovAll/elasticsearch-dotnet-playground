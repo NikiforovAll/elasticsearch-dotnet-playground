{
 "cells": [
  {
   "cell_type": "markdown",
   "metadata": {},
   "source": [
    "# Deploy Azure Resources\n",
    "\n",
    "https://learn.microsoft.com/en-us/azure/ai-services/openai/how-to/create-resource?pivots=cli"
   ]
  },
  {
   "cell_type": "code",
   "execution_count": null,
   "metadata": {
    "dotnet_interactive": {
     "language": "pwsh"
    },
    "polyglot_notebook": {
     "kernelName": "pwsh"
    }
   },
   "outputs": [],
   "source": [
    "az account show\n",
    "\n",
    "$location = \"eastus\"\n",
    "$resourceGroup = \"rg-elasticsearch-playground\"\n",
    "$aiResourceName = \"ai-elasticsearch-playground\"\n"
   ]
  },
  {
   "cell_type": "code",
   "execution_count": null,
   "metadata": {
    "dotnet_interactive": {
     "language": "pwsh"
    },
    "polyglot_notebook": {
     "kernelName": "pwsh"
    }
   },
   "outputs": [],
   "source": [
    "az group create `\n",
    "    --name rg-elasticsearch-playground `\n",
    "    --location $location"
   ]
  },
  {
   "cell_type": "code",
   "execution_count": null,
   "metadata": {
    "dotnet_interactive": {
     "language": "pwsh"
    },
    "polyglot_notebook": {
     "kernelName": "pwsh"
    }
   },
   "outputs": [],
   "source": [
    "az group show --name rg-elasticsearch-playground"
   ]
  },
  {
   "cell_type": "code",
   "execution_count": null,
   "metadata": {
    "dotnet_interactive": {
     "language": "pwsh"
    },
    "polyglot_notebook": {
     "kernelName": "pwsh"
    }
   },
   "outputs": [],
   "source": [
    "az cognitiveservices account create `\n",
    "    --name $aiResourceName `\n",
    "    --resource-group $resourceGroup `\n",
    "    --location $location `\n",
    "    --kind OpenAI --sku s0"
   ]
  },
  {
   "cell_type": "code",
   "execution_count": null,
   "metadata": {
    "dotnet_interactive": {
     "language": "pwsh"
    },
    "polyglot_notebook": {
     "kernelName": "pwsh"
    }
   },
   "outputs": [],
   "source": [
    "az cognitiveservices account show `\n",
    "    --name $aiResourceName `\n",
    "    --resource-group $resourceGroup | jq -r '.properties.endpoint'\n",
    "\n",
    "az cognitiveservices account keys list `\n",
    "    --name $aiResourceName `\n",
    "    --resource-group $resourceGroup | jq -r .key1"
   ]
  },
  {
   "cell_type": "code",
   "execution_count": null,
   "metadata": {
    "dotnet_interactive": {
     "language": "pwsh"
    },
    "polyglot_notebook": {
     "kernelName": "pwsh"
    }
   },
   "outputs": [],
   "source": [
    "az cognitiveservices account `\n",
    "    deployment create `\n",
    "    --name $aiResourceName `\n",
    "    --resource-group $resourceGroup `\n",
    "    --deployment-name \"text-embedding-3-small\" `\n",
    "    --model-name \"text-embedding-3-small\" `\n",
    "    --model-version \"1\"  `\n",
    "    --model-format OpenAI `\n",
    "    --sku-capacity \"1\" `\n",
    "    --sku-name \"Standard\" `\n"
   ]
  },
  {
   "cell_type": "code",
   "execution_count": null,
   "metadata": {
    "dotnet_interactive": {
     "language": "pwsh"
    },
    "polyglot_notebook": {
     "kernelName": "pwsh"
    }
   },
   "outputs": [],
   "source": [
    "az cognitiveservices account deployment list `\n",
    "    --name $aiResourceName `\n",
    "    --resource-group $resourceGroup"
   ]
  }
 ],
 "metadata": {
  "kernelspec": {
   "display_name": ".NET (C#)",
   "language": "C#",
   "name": ".net-csharp"
  },
  "polyglot_notebook": {
   "kernelInfo": {
    "defaultKernelName": "csharp",
    "items": [
     {
      "aliases": [],
      "languageName": "csharp",
      "name": "csharp"
     }
    ]
   }
  }
 },
 "nbformat": 4,
 "nbformat_minor": 2
}
