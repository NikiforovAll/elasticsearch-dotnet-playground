{
 "cells": [
  {
   "cell_type": "code",
   "execution_count": 16,
   "metadata": {
    "dotnet_interactive": {
     "language": "csharp"
    },
    "polyglot_notebook": {
     "kernelName": "csharp"
    }
   },
   "outputs": [
    {
     "data": {
      "text/html": [
       "<div><div></div><div></div><div><strong>Installed Packages</strong><ul><li><span>Bogus, 35.6.1</span></li><li><span>dotenv.net, 3.2.0</span></li><li><span>Elastic.Clients.Elasticsearch, 8.15.6</span></li><li><span>Microsoft.Data.Analysis, 0.21.1</span></li><li><span>NEST, 7.17.5</span></li><li><span>System.Linq.Async, 6.0.1</span></li><li><span>Testcontainers.Elasticsearch, 3.10.0</span></li><li><span>XUnit, 2.9.0</span></li></ul></div></div>"
      ]
     },
     "metadata": {},
     "output_type": "display_data"
    }
   ],
   "source": [
    "#!import ./setup-clients.ipynb\n",
    "\n",
    "const string PostsIndex = \"posts\";"
   ]
  },
  {
   "cell_type": "markdown",
   "metadata": {},
   "source": [
    "## Srolling - `Elastic.Clients.Elasticsearch`\n",
    "\n",
    "<https://www.elastic.co/guide/en/elasticsearch/reference/current/paginate-search-results.html#scroll-search-results>\n"
   ]
  },
  {
   "cell_type": "code",
   "execution_count": 31,
   "metadata": {
    "dotnet_interactive": {
     "language": "csharp"
    },
    "polyglot_notebook": {
     "kernelName": "csharp"
    }
   },
   "outputs": [],
   "source": [
    "#nullable enable\n",
    "using Elastic.Clients.Elasticsearch;\n",
    "\n",
    "public class ScrollConfiguration\n",
    "{\n",
    "    public int PageSize { get; set; } = 250;\n",
    "\n",
    "    public Elastic.Clients.Elasticsearch.Duration KeepAlive { get; set; } = new Elastic.Clients.Elasticsearch.Duration(\"1m\");\n",
    "\n",
    "    public bool DebugOutput { get; set; } = false;\n",
    "\n",
    "    public static ScrollConfiguration Default => new ();\n",
    "}\n",
    "\n",
    "public static class ElasticsearchClientExtensions\n",
    "{\n",
    "    public static async IAsyncEnumerable<TDocument> ScrollAsync<TDocument>(\n",
    "        ElasticsearchClient client,\n",
    "        Elastic.Clients.Elasticsearch.Indices indices,\n",
    "        Action<SearchRequestDescriptor<TDocument>>? configure = default, \n",
    "        ScrollConfiguration? scrollConfiguration = default,\n",
    "        [System.Runtime.CompilerServices.EnumeratorCancellation] System.Threading.CancellationToken cancellationToken = default)\n",
    "    {\n",
    "        Elastic.Clients.Elasticsearch.OpenPointInTimeResponse? pit = default;\n",
    "\n",
    "        scrollConfiguration ??= ScrollConfiguration.Default;\n",
    "\n",
    "        try\n",
    "        {\n",
    "            pit = await client.OpenPointInTimeAsync(\n",
    "                indices,\n",
    "                d => d.KeepAlive(scrollConfiguration!.KeepAlive),\n",
    "                cancellationToken);\n",
    "\n",
    "            HandleError(pit);\n",
    "            \n",
    "            var searchResponse = await client.SearchAsync<TDocument>(\n",
    "                s => ConfigureSearch(s),\n",
    "                cancellationToken);\n",
    "\n",
    "            if(scrollConfiguration.DebugOutput)\n",
    "            {\n",
    "                DumpResponse(searchResponse);\n",
    "            }\n",
    "            HandleError(searchResponse);\n",
    "\n",
    "            while (searchResponse.Documents.Count > 0)\n",
    "            {\n",
    "                foreach (var document in searchResponse.Documents)\n",
    "                {\n",
    "                    yield return document;\n",
    "                }\n",
    "\n",
    "                if(searchResponse.Hits.Last().Sort is var searchAfter and { Count: > 0 })\n",
    "                {\n",
    "                    searchResponse = await client.SearchAsync<TDocument>(\n",
    "                        s => ConfigureSearch(s).SearchAfter(searchAfter.ToList()),\n",
    "                        cancellationToken);\n",
    "\n",
    "                    \n",
    "                    if(scrollConfiguration.DebugOutput)\n",
    "                    {\n",
    "                        DumpResponse(searchResponse);\n",
    "                    }\n",
    "                    HandleError(searchResponse);\n",
    "                }\n",
    "                else\n",
    "                {\n",
    "                    break;\n",
    "                }\n",
    "            }\n",
    "        }\n",
    "        finally\n",
    "        {\n",
    "            if(pit is not null)\n",
    "            {\n",
    "                var closeResponse = await client.ClosePointInTimeAsync(d => d.Id(pit.Id), cancellationToken);\n",
    "                HandleError(closeResponse);\n",
    "            }\n",
    "        }\n",
    "\n",
    "        SearchRequestDescriptor<TDocument> ConfigureSearch(SearchRequestDescriptor<TDocument> descriptor)\n",
    "        {\n",
    "            descriptor = descriptor\n",
    "                .Index(indices)\n",
    "                .Pit(pit!.Id, d => d.KeepAlive(scrollConfiguration!.KeepAlive))\n",
    "                .Size(scrollConfiguration.PageSize);\n",
    "\n",
    "            if(configure is not null)\n",
    "            {\n",
    "                configure(descriptor);\n",
    "            }\n",
    "            else\n",
    "            {\n",
    "                descriptor.Sort(\n",
    "                    [\n",
    "                        SortOptions.Field(\n",
    "                            \"_doc\",\n",
    "                            new Elastic.Clients.Elasticsearch.FieldSort { Order = Elastic.Clients.Elasticsearch.SortOrder.Asc })\n",
    "                    ]);\n",
    "            }\n",
    "\n",
    "            return descriptor;\n",
    "        }\n",
    "\n",
    "        void HandleError(ElasticsearchResponse response)\n",
    "        {\n",
    "            if (!response.IsSuccess() && response.TryGetOriginalException(out var ex))\n",
    "            {\n",
    "                throw ex!;\n",
    "            }\n",
    "        }\n",
    "    }\n",
    "}"
   ]
  },
  {
   "cell_type": "code",
   "execution_count": 32,
   "metadata": {
    "dotnet_interactive": {
     "language": "csharp"
    },
    "polyglot_notebook": {
     "kernelName": "csharp"
    }
   },
   "outputs": [
    {
     "data": {
      "text/html": [
       "<div class=\"dni-plaintext\"><pre>1000</pre></div><style>\r\n",
       ".dni-code-hint {\r\n",
       "    font-style: italic;\r\n",
       "    overflow: hidden;\r\n",
       "    white-space: nowrap;\r\n",
       "}\r\n",
       ".dni-treeview {\r\n",
       "    white-space: nowrap;\r\n",
       "}\r\n",
       ".dni-treeview td {\r\n",
       "    vertical-align: top;\r\n",
       "    text-align: start;\r\n",
       "}\r\n",
       "details.dni-treeview {\r\n",
       "    padding-left: 1em;\r\n",
       "}\r\n",
       "table td {\r\n",
       "    text-align: start;\r\n",
       "}\r\n",
       "table tr { \r\n",
       "    vertical-align: top; \r\n",
       "    margin: 0em 0px;\r\n",
       "}\r\n",
       "table tr td pre \r\n",
       "{ \r\n",
       "    vertical-align: top !important; \r\n",
       "    margin: 0em 0px !important;\r\n",
       "} \r\n",
       "table th {\r\n",
       "    text-align: start;\r\n",
       "}\r\n",
       "</style>"
      ]
     },
     "metadata": {},
     "output_type": "display_data"
    }
   ],
   "source": [
    "var scrollConfiguration = ScrollConfiguration.Default;\n",
    "scrollConfiguration.PageSize = 500;\n",
    "scrollConfiguration.DebugOutput = false;\n",
    "\n",
    "var source = ElasticsearchClientExtensions.ScrollAsync<BlogPost>(client, PostsIndex, scrollConfiguration: scrollConfiguration);\n",
    "\n",
    "display(await source.CountAsync());\n",
    "// var posts = await source.ToListAsync();"
   ]
  }
 ],
 "metadata": {
  "kernelspec": {
   "display_name": ".NET (C#)",
   "language": "C#",
   "name": ".net-csharp"
  },
  "polyglot_notebook": {
   "kernelInfo": {
    "defaultKernelName": "csharp",
    "items": [
     {
      "aliases": [],
      "languageName": "csharp",
      "name": "csharp"
     }
    ]
   }
  }
 },
 "nbformat": 4,
 "nbformat_minor": 2
}
