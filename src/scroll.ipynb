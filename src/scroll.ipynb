{
 "cells": [
  {
   "cell_type": "code",
   "execution_count": 16,
   "metadata": {
    "dotnet_interactive": {
     "language": "csharp"
    },
    "polyglot_notebook": {
     "kernelName": "csharp"
    }
   },
   "outputs": [],
   "source": [
    "#!import ./setup-clients.ipynb\n",
    "\n",
    "const string PostsIndex = \"posts\";"
   ]
  },
  {
   "cell_type": "markdown",
   "metadata": {},
   "source": [
    "## Srolling - `Elastic.Clients.Elasticsearch`\n",
    "\n",
    "<https://www.elastic.co/guide/en/elasticsearch/reference/current/paginate-search-results.html#scroll-search-results>\n"
   ]
  },
  {
   "cell_type": "code",
   "execution_count": 31,
   "metadata": {
    "dotnet_interactive": {
     "language": "csharp"
    },
    "polyglot_notebook": {
     "kernelName": "csharp"
    }
   },
   "outputs": [],
   "source": [
    "#nullable enable\n",
    "using Elastic.Clients.Elasticsearch;\n",
    "\n",
    "public class ScrollConfiguration\n",
    "{\n",
    "    public int PageSize { get; set; } = 250;\n",
    "\n",
    "    public Elastic.Clients.Elasticsearch.Duration KeepAlive { get; set; } = new Elastic.Clients.Elasticsearch.Duration(\"1m\");\n",
    "\n",
    "    public bool DebugOutput { get; set; } = false;\n",
    "\n",
    "    public static ScrollConfiguration Default => new ();\n",
    "}\n",
    "\n",
    "public static class ElasticsearchClientExtensions\n",
    "{\n",
    "    public static async IAsyncEnumerable<TDocument> ScrollAsync<TDocument>(\n",
    "        ElasticsearchClient client,\n",
    "        Elastic.Clients.Elasticsearch.Indices indices,\n",
    "        Action<SearchRequestDescriptor<TDocument>>? configure = default, \n",
    "        ScrollConfiguration? scrollConfiguration = default,\n",
    "        [System.Runtime.CompilerServices.EnumeratorCancellation] System.Threading.CancellationToken cancellationToken = default)\n",
    "    {\n",
    "        Elastic.Clients.Elasticsearch.OpenPointInTimeResponse? pit = default;\n",
    "\n",
    "        scrollConfiguration ??= ScrollConfiguration.Default;\n",
    "\n",
    "        try\n",
    "        {\n",
    "            pit = await client.OpenPointInTimeAsync(\n",
    "                indices,\n",
    "                d => d.KeepAlive(scrollConfiguration!.KeepAlive),\n",
    "                cancellationToken\n",
    "            );\n",
    "\n",
    "            EnsureResponseHasNoErrors(pit);\n",
    "\n",
    "            var hasDocumentsToSearch = false;\n",
    "            ICollection<FieldValue>? searchAfter = null;\n",
    "\n",
    "            do\n",
    "            {\n",
    "                var searchResponse = await client.SearchAsync<TDocument>(\n",
    "                    s =>\n",
    "                    {\n",
    "                        ConfigureSearch(s);\n",
    "\n",
    "                        if (searchAfter is not null)\n",
    "                        {\n",
    "                            s.SearchAfter(searchAfter);\n",
    "                        }\n",
    "                    },\n",
    "                    cancellationToken\n",
    "                );\n",
    "\n",
    "                EnsureResponseHasNoErrors(searchResponse);\n",
    "\n",
    "                foreach (var document in searchResponse.Documents)\n",
    "                {\n",
    "                    yield return document;\n",
    "                }\n",
    "\n",
    "                searchAfter = searchResponse.Hits.LastOrDefault()?.Sort?.ToArray();\n",
    "                hasDocumentsToSearch = searchAfter is { Count: > 0 };\n",
    "            } while (hasDocumentsToSearch);\n",
    "        }\n",
    "        finally\n",
    "        {\n",
    "            if (pit is not null)\n",
    "            {\n",
    "                var closeResponse = await client.ClosePointInTimeAsync(\n",
    "                    d => d.Id(pit.Id),\n",
    "                    cancellationToken\n",
    "                );\n",
    "                EnsureResponseHasNoErrors(closeResponse);\n",
    "            }\n",
    "        }\n",
    "\n",
    "        SearchRequestDescriptor<TDocument> ConfigureSearch(SearchRequestDescriptor<TDocument> descriptor)\n",
    "        {\n",
    "            descriptor = descriptor\n",
    "                .Index(indices)\n",
    "                .Pit(pit!.Id, d => d.KeepAlive(scrollConfiguration!.KeepAlive))\n",
    "                .Size(scrollConfiguration.PageSize);\n",
    "\n",
    "            if(configure is not null)\n",
    "            {\n",
    "                configure(descriptor);\n",
    "            }\n",
    "            else\n",
    "            {\n",
    "                descriptor.Sort(\n",
    "                    [\n",
    "                        SortOptions.Field(\n",
    "                            \"_doc\",\n",
    "                            new Elastic.Clients.Elasticsearch.FieldSort { Order = Elastic.Clients.Elasticsearch.SortOrder.Asc })\n",
    "                    ]);\n",
    "            }\n",
    "\n",
    "            return descriptor;\n",
    "        }\n",
    "\n",
    "        void EnsureResponseHasNoErrors(ElasticsearchResponse response)\n",
    "        {\n",
    "            if (!response.IsSuccess() && response.TryGetOriginalException(out var ex))\n",
    "            {\n",
    "                throw ex!;\n",
    "            }\n",
    "        }\n",
    "    }\n",
    "}"
   ]
  },
  {
   "cell_type": "code",
   "execution_count": 32,
   "metadata": {
    "dotnet_interactive": {
     "language": "csharp"
    },
    "polyglot_notebook": {
     "kernelName": "csharp"
    }
   },
   "outputs": [],
   "source": [
    "var scrollConfiguration = ScrollConfiguration.Default;\n",
    "scrollConfiguration.PageSize = 500;\n",
    "scrollConfiguration.DebugOutput = false;\n",
    "\n",
    "var source = ElasticsearchClientExtensions.ScrollAsync<BlogPost>(client, PostsIndex, scrollConfiguration: scrollConfiguration);\n",
    "\n",
    "display(await source.CountAsync());\n",
    "// var posts = await source.ToListAsync();"
   ]
  },
  {
   "cell_type": "code",
   "execution_count": null,
   "metadata": {
    "dotnet_interactive": {
     "language": "csharp"
    },
    "polyglot_notebook": {
     "kernelName": "csharp"
    }
   },
   "outputs": [],
   "source": []
  }
 ],
 "metadata": {
  "kernelspec": {
   "display_name": ".NET (C#)",
   "language": "C#",
   "name": ".net-csharp"
  },
  "polyglot_notebook": {
   "kernelInfo": {
    "defaultKernelName": "csharp",
    "items": [
     {
      "aliases": [],
      "languageName": "csharp",
      "name": "csharp"
     }
    ]
   }
  }
 },
 "nbformat": 4,
 "nbformat_minor": 2
}
