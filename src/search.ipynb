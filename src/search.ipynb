{
 "cells": [
  {
   "cell_type": "code",
   "execution_count": 1,
   "metadata": {
    "dotnet_interactive": {
     "language": "csharp"
    },
    "polyglot_notebook": {
     "kernelName": "csharp"
    }
   },
   "outputs": [],
   "source": [
    "const string PostsIndex = \"posts\";\n",
    "\n",
    "#!import ./setup-clients.ipynb"
   ]
  },
  {
   "cell_type": "markdown",
   "metadata": {},
   "source": [
    "# Searching for data"
   ]
  },
  {
   "cell_type": "code",
   "execution_count": 3,
   "metadata": {
    "dotnet_interactive": {
     "language": "csharp"
    },
    "polyglot_notebook": {
     "kernelName": "csharp"
    }
   },
   "outputs": [],
   "source": [
    "var testCaseName = \"search-all\";\n",
    "\n",
    "var _response = await _client.SearchAsync<BlogPost>(s => s\n",
    "    .Index(PostsIndex).MatchAll()\n",
    ");\n",
    "\n",
    "var response = await client.SearchAsync<BlogPost>(s => s \n",
    "    .Index(PostsIndex).Query(q => q.MatchAll(q => {}))\n",
    ");\n",
    "\n",
    "ReportAndAssert(testCaseName, _response, response);"
   ]
  },
  {
   "cell_type": "code",
   "execution_count": 4,
   "metadata": {
    "dotnet_interactive": {
     "language": "csharp"
    },
    "polyglot_notebook": {
     "kernelName": "csharp"
    }
   },
   "outputs": [],
   "source": [
    "var testCaseName = \"simple-search-with-term-and-pagination\";\n",
    "\n",
    "var _response = await _client.SearchAsync<BlogPost>(s => s\n",
    "    .Index(PostsIndex)\n",
    "    .From(0)\n",
    "    .Size(10)\n",
    "    .Query(q => q\n",
    "        .Term(t => t.Field(f=> f.Title).Value(\"Generic Fresh Cheese\"))\n",
    "    )\n",
    ");\n",
    "\n",
    "var response = await client.SearchAsync<BlogPost>(s => s \n",
    "    .Index(PostsIndex)\n",
    "    .From(0)\n",
    "    .Size(10)\n",
    "    .Query(q => q\n",
    "        .Term(t => t.Field(f => f.Title).Value(\"Generic Fresh Cheese\")) \n",
    "    )\n",
    ");\n",
    "\n",
    "ReportAndAssert(testCaseName, _response, response);"
   ]
  },
  {
   "cell_type": "code",
   "execution_count": null,
   "metadata": {
    "dotnet_interactive": {
     "language": "csharp"
    },
    "polyglot_notebook": {
     "kernelName": "csharp"
    }
   },
   "outputs": [],
   "source": []
  }
 ],
 "metadata": {
  "kernelspec": {
   "display_name": ".NET (C#)",
   "language": "C#",
   "name": ".net-csharp"
  },
  "polyglot_notebook": {
   "kernelInfo": {
    "defaultKernelName": "csharp",
    "items": [
     {
      "aliases": [],
      "languageName": "csharp",
      "name": "csharp"
     }
    ]
   }
  }
 },
 "nbformat": 4,
 "nbformat_minor": 2
}
