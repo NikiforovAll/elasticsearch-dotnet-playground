{
 "cells": [
  {
   "cell_type": "code",
   "execution_count": null,
   "metadata": {
    "dotnet_interactive": {
     "language": "csharp"
    },
    "polyglot_notebook": {
     "kernelName": "csharp"
    }
   },
   "outputs": [],
   "source": [
    "#r \"nuget: Elastic.Clients.Elasticsearch\""
   ]
  },
  {
   "cell_type": "code",
   "execution_count": 3,
   "metadata": {
    "dotnet_interactive": {
     "language": "csharp"
    },
    "polyglot_notebook": {
     "kernelName": "csharp"
    }
   },
   "outputs": [],
   "source": [
    "#!import ../_infra/get-connection-string.ipynb\n",
    "\n",
    "using Elastic.Transport;\n",
    "using Elastic.Clients.Elasticsearch;\n",
    "using Elastic.Transport.Products.Elasticsearch;\n",
    "\n",
    "var connectionString = new Uri(connectionStringInput);\n",
    "var elasticSettings = new ElasticsearchClientSettings(connectionString)\n",
    "    .DisableDirectStreaming()\n",
    "    .ServerCertificateValidationCallback(CertificateValidations.AllowAll);\n",
    "\n",
    "var client = new ElasticsearchClient(elasticSettings);"
   ]
  },
  {
   "cell_type": "code",
   "execution_count": null,
   "metadata": {
    "dotnet_interactive": {
     "language": "csharp"
    },
    "polyglot_notebook": {
     "kernelName": "csharp"
    }
   },
   "outputs": [],
   "source": []
  }
 ],
 "metadata": {
  "kernelspec": {
   "display_name": ".NET (C#)",
   "language": "C#",
   "name": ".net-csharp"
  },
  "polyglot_notebook": {
   "kernelInfo": {
    "defaultKernelName": "csharp",
    "items": [
     {
      "aliases": [],
      "languageName": "csharp",
      "name": "csharp"
     }
    ]
   }
  }
 },
 "nbformat": 4,
 "nbformat_minor": 2
}
