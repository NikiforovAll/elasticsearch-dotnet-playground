{
 "cells": [
  {
   "cell_type": "markdown",
   "metadata": {},
   "source": [
    "# Keyword querying and filtering\n",
    "\n",
    "This interactive notebook will introduce you to the basic **Elasticsearch Queries**, using the official `Elastic.Clients.Elasticsearch` .NET  client. Before getting started on this section you should work through our quick start, as you will be using the same dataset."
   ]
  },
  {
   "cell_type": "markdown",
   "metadata": {},
   "source": [
    "## Initialize the Elasticsearch client\n",
    "\n",
    "Now, we need to initialize the Elasticsearch client. We will use the [Elasticsearch client for .NET](https://www.elastic.co/guide/en/elasticsearch/client/net-api/current/index.html) to connect to Elasticsearch.\n"
   ]
  },
  {
   "cell_type": "markdown",
   "metadata": {},
   "source": [
    "#### Install packages and import modules"
   ]
  },
  {
   "cell_type": "code",
   "execution_count": null,
   "metadata": {
    "dotnet_interactive": {
     "language": "csharp"
    },
    "polyglot_notebook": {
     "kernelName": "csharp"
    }
   },
   "outputs": [],
   "source": [
    "#r \"nuget: Elastic.Clients.Elasticsearch\"\n",
    "\n",
    "#!import ./Utils.cs\n",
    "#!import ../_infra/get-connection-string.ipynb"
   ]
  },
  {
   "cell_type": "markdown",
   "metadata": {},
   "source": [
    "#### Initialize Client\n"
   ]
  },
  {
   "cell_type": "code",
   "execution_count": null,
   "metadata": {
    "dotnet_interactive": {
     "language": "csharp"
    },
    "polyglot_notebook": {
     "kernelName": "csharp"
    }
   },
   "outputs": [],
   "source": [
    "using Elastic.Transport;\n",
    "using Elastic.Clients.Elasticsearch;\n",
    "using Elastic.Transport.Products.Elasticsearch;\n",
    "\n",
    "var elasticSettings = new ElasticsearchClientSettings(connectionString)\n",
    "    .DisableDirectStreaming()\n",
    "    .ServerCertificateValidationCallback(CertificateValidations.AllowAll);\n",
    "\n",
    "var client = new ElasticsearchClient(elasticSettings);"
   ]
  },
  {
   "cell_type": "markdown",
   "metadata": {},
   "source": [
    "#### Define Model"
   ]
  },
  {
   "cell_type": "code",
   "execution_count": null,
   "metadata": {
    "dotnet_interactive": {
     "language": "csharp"
    },
    "polyglot_notebook": {
     "kernelName": "csharp"
    }
   },
   "outputs": [],
   "source": [
    "using System.Text.Json.Serialization;\n",
    "\n",
    "public class Book\n",
    "{\n",
    "    public string Title { get; set; }\n",
    "\n",
    "    public string Summary { get; set; }\n",
    "\n",
    "    public List<string> Authors { get; set; }\n",
    "\n",
    "    public DateTime publish_date { get; set; }\n",
    "\n",
    "    public int num_reviews { get; set; }\n",
    "\n",
    "    public string Publisher { get; set; }\n",
    "}\n",
    "\n",
    "void PrettyPrint(SearchResponse<Book> searchResponse) => searchResponse.Hits\n",
    "    .Select(x => new { \n",
    "        Title = x.Source.Title,\n",
    "        Score = x.Score,\n",
    "        Summary = x.Source.Summary,\n",
    "        Id = x.Id,\n",
    "        Publisher = x.Source.Publisher,\n",
    "        Authors = x.Source.Authors,\n",
    "        Reviews = x.Source.num_reviews,\n",
    "    })\n",
    "    .DisplayTable();"
   ]
  },
  {
   "cell_type": "markdown",
   "metadata": {},
   "source": [
    "## Querying\n",
    "\n",
    "🔐 NOTE: to run the queries that follow you need the book_index dataset from our [00-quick-start.ipynb](./00-quick-start.ipynb). If you haven't worked through the quick start, please follow the steps described there to create an Elasticsearch deployment with the dataset in it, and then come back to run the queries here.\n",
    "\n",
    "In the query context, a query clause answers the question *“How well does this document match this query clause?”*. In addition to deciding whether or not the document matches, the query clause also calculates a relevance score in the `_score` metadata field."
   ]
  },
  {
   "cell_type": "markdown",
   "metadata": {},
   "source": [
    "### Full text queries\n",
    "Full text queries enable you to search analyzed text fields such as the body of an email. The query string is processed using the same analyzer that was applied to the field during indexing.\n",
    "\n",
    "* **match**. The standard query for performing full text queries, including fuzzy matching and phrase or proximity queries.\n",
    "* **multi-match**. The multi-field version of the match query."
   ]
  },
  {
   "cell_type": "markdown",
   "metadata": {},
   "source": [
    "#### Match query\n",
    "Returns documents that `match` a provided text, number, date or boolean value. The provided text is analyzed before matching.\n",
    "\n",
    "The `match` query is the standard query for performing a full-text search, including options for fuzzy matching. \n",
    "\n",
    "> 💡 [Read more](https://www.elastic.co/guide/en/elasticsearch/reference/current/query-dsl-match-query.html#match-query-ex-request)"
   ]
  },
  {
   "cell_type": "code",
   "execution_count": null,
   "metadata": {
    "dotnet_interactive": {
     "language": "csharp"
    },
    "polyglot_notebook": {
     "kernelName": "csharp"
    }
   },
   "outputs": [
    {
     "data": {
      "application/json": {
       "query": {
        "match": {
         "summary": {
          "query": "guide"
         }
        }
       },
       "size": 5
      }
     },
     "metadata": {},
     "output_type": "display_data"
    },
    {
     "data": {
      "text/csv": [
       "Title,Score,Summary,Id,Publisher,Authors,Reviews\r\n",
       "\"The Pragmatic Programmer: Your Journey to Mastery\",0.7042277,\"A guide to pragmatic programming for software engineers and developers\",DiYfqZIBTvBCTLU88r8R,addison-wesley,System.Collections.Generic.List`1[System.String],30\r\n",
       "\"Python Crash Course\",0.7042277,\"A fast-paced, no-nonsense guide to programming in Python\",DyYfqZIBTvBCTLU88r8R,\"no starch press\",System.Collections.Generic.List`1[System.String],42\r\n",
       "\"The Clean Coder: A Code of Conduct for Professional Programmers\",0.6771651,\"A guide to professional conduct in the field of software engineering\",FSYfqZIBTvBCTLU88r8R,\"prentice hall\",System.Collections.Generic.List`1[System.String],20\r\n",
       "\"Clean Code: A Handbook of Agile Software Craftsmanship\",0.62883455,\"A guide to writing code that is easy to read, understand and maintain\",ESYfqZIBTvBCTLU88r8R,\"prentice hall\",System.Collections.Generic.List`1[System.String],55\r\n",
       "\"Design Patterns: Elements of Reusable Object-Oriented Software\",0.62883455,\"Guide to design patterns that can be used in any object-oriented language\",FCYfqZIBTvBCTLU88r8R,addison-wesley,System.Collections.Generic.List`1[System.String],45\r\n"
      ],
      "text/html": [
       "<table><thead><tr><td><span>Title</span></td><td><span>Score</span></td><td><span>Summary</span></td><td><span>Id</span></td><td><span>Publisher</span></td><td><span>Authors</span></td><td><span>Reviews</span></td></tr></thead><tbody><tr><td>The Pragmatic Programmer: Your Journey to Mastery</td><td><div class=\"dni-plaintext\"><pre>0.7042277</pre></div></td><td>A guide to pragmatic programming for software engineers and developers</td><td>DiYfqZIBTvBCTLU88r8R</td><td>addison-wesley</td><td><div class=\"dni-plaintext\"><pre>[ andrew hunt, david thomas ]</pre></div></td><td><div class=\"dni-plaintext\"><pre>30</pre></div></td></tr><tr><td>Python Crash Course</td><td><div class=\"dni-plaintext\"><pre>0.7042277</pre></div></td><td>A fast-paced, no-nonsense guide to programming in Python</td><td>DyYfqZIBTvBCTLU88r8R</td><td>no starch press</td><td><div class=\"dni-plaintext\"><pre>[ eric matthes ]</pre></div></td><td><div class=\"dni-plaintext\"><pre>42</pre></div></td></tr><tr><td>The Clean Coder: A Code of Conduct for Professional Programmers</td><td><div class=\"dni-plaintext\"><pre>0.6771651</pre></div></td><td>A guide to professional conduct in the field of software engineering</td><td>FSYfqZIBTvBCTLU88r8R</td><td>prentice hall</td><td><div class=\"dni-plaintext\"><pre>[ robert c. martin ]</pre></div></td><td><div class=\"dni-plaintext\"><pre>20</pre></div></td></tr><tr><td>Clean Code: A Handbook of Agile Software Craftsmanship</td><td><div class=\"dni-plaintext\"><pre>0.62883455</pre></div></td><td>A guide to writing code that is easy to read, understand and maintain</td><td>ESYfqZIBTvBCTLU88r8R</td><td>prentice hall</td><td><div class=\"dni-plaintext\"><pre>[ robert c. martin ]</pre></div></td><td><div class=\"dni-plaintext\"><pre>55</pre></div></td></tr><tr><td>Design Patterns: Elements of Reusable Object-Oriented Software</td><td><div class=\"dni-plaintext\"><pre>0.62883455</pre></div></td><td>Guide to design patterns that can be used in any object-oriented language</td><td>FCYfqZIBTvBCTLU88r8R</td><td>addison-wesley</td><td><div class=\"dni-plaintext\"><pre>[ erich gamma, richard helm, ralph johnson, john vlissides ]</pre></div></td><td><div class=\"dni-plaintext\"><pre>45</pre></div></td></tr></tbody></table><style>\r\n",
       ".dni-code-hint {\r\n",
       "    font-style: italic;\r\n",
       "    overflow: hidden;\r\n",
       "    white-space: nowrap;\r\n",
       "}\r\n",
       ".dni-treeview {\r\n",
       "    white-space: nowrap;\r\n",
       "}\r\n",
       ".dni-treeview td {\r\n",
       "    vertical-align: top;\r\n",
       "    text-align: start;\r\n",
       "}\r\n",
       "details.dni-treeview {\r\n",
       "    padding-left: 1em;\r\n",
       "}\r\n",
       "table td {\r\n",
       "    text-align: start;\r\n",
       "}\r\n",
       "table tr { \r\n",
       "    vertical-align: top; \r\n",
       "    margin: 0em 0px;\r\n",
       "}\r\n",
       "table tr td pre \r\n",
       "{ \r\n",
       "    vertical-align: top !important; \r\n",
       "    margin: 0em 0px !important;\r\n",
       "} \r\n",
       "table th {\r\n",
       "    text-align: start;\r\n",
       "}\r\n",
       "</style>"
      ]
     },
     "metadata": {},
     "output_type": "display_data"
    }
   ],
   "source": [
    "var searchResponse = await client.SearchAsync<Book>(s => s\n",
    "    .Query(q => q\n",
    "        .Match(m => m\n",
    "            .Field(f => f.Summary)\n",
    "            .Query(\"guide\")\n",
    "        )\n",
    "    )\n",
    "    .Size(5)\n",
    ");\n",
    "\n",
    "DumpRequest(searchResponse);\n",
    "PrettyPrint(searchResponse);"
   ]
  },
  {
   "cell_type": "markdown",
   "metadata": {},
   "source": [
    "#### Multi-match query\n",
    "\n",
    "The `multi_match` query builds on the match query to allow multi-field queries.\n",
    "\n",
    "> 💡 [Read more](https://www.elastic.co/guide/en/elasticsearch/reference/current/query-dsl-multi-match-query.html)."
   ]
  },
  {
   "cell_type": "code",
   "execution_count": null,
   "metadata": {
    "dotnet_interactive": {
     "language": "csharp"
    },
    "polyglot_notebook": {
     "kernelName": "csharp"
    }
   },
   "outputs": [
    {
     "data": {
      "application/json": {
       "query": {
        "multi_match": {
         "fields": [
          "summary",
          "title"
         ],
         "query": "javascript"
        }
       }
      }
     },
     "metadata": {},
     "output_type": "display_data"
    },
    {
     "data": {
      "text/csv": [
       "Title,Score,Summary,Id,Publisher,Authors,Reviews\r\n",
       "\"Eloquent JavaScript\",2.0307527,\"A modern introduction to programming\",EyYfqZIBTvBCTLU88r8R,\"no starch press\",System.Collections.Generic.List`1[System.String],38\r\n",
       "\"JavaScript: The Good Parts\",1.7064086,\"A deep dive into the parts of JavaScript that are essential to writing maintainable code\",FiYfqZIBTvBCTLU88r8R,oreilly,System.Collections.Generic.List`1[System.String],51\r\n",
       "\"You Don't Know JS: Up & Going\",1.6360576,\"Introduction to JavaScript and programming as a whole\",EiYfqZIBTvBCTLU88r8R,oreilly,System.Collections.Generic.List`1[System.String],36\r\n"
      ],
      "text/html": [
       "<table><thead><tr><td><span>Title</span></td><td><span>Score</span></td><td><span>Summary</span></td><td><span>Id</span></td><td><span>Publisher</span></td><td><span>Authors</span></td><td><span>Reviews</span></td></tr></thead><tbody><tr><td>Eloquent JavaScript</td><td><div class=\"dni-plaintext\"><pre>2.0307527</pre></div></td><td>A modern introduction to programming</td><td>EyYfqZIBTvBCTLU88r8R</td><td>no starch press</td><td><div class=\"dni-plaintext\"><pre>[ marijn haverbeke ]</pre></div></td><td><div class=\"dni-plaintext\"><pre>38</pre></div></td></tr><tr><td>JavaScript: The Good Parts</td><td><div class=\"dni-plaintext\"><pre>1.7064086</pre></div></td><td>A deep dive into the parts of JavaScript that are essential to writing maintainable code</td><td>FiYfqZIBTvBCTLU88r8R</td><td>oreilly</td><td><div class=\"dni-plaintext\"><pre>[ douglas crockford ]</pre></div></td><td><div class=\"dni-plaintext\"><pre>51</pre></div></td></tr><tr><td>You Don&#39;t Know JS: Up &amp; Going</td><td><div class=\"dni-plaintext\"><pre>1.6360576</pre></div></td><td>Introduction to JavaScript and programming as a whole</td><td>EiYfqZIBTvBCTLU88r8R</td><td>oreilly</td><td><div class=\"dni-plaintext\"><pre>[ kyle simpson ]</pre></div></td><td><div class=\"dni-plaintext\"><pre>36</pre></div></td></tr></tbody></table><style>\r\n",
       ".dni-code-hint {\r\n",
       "    font-style: italic;\r\n",
       "    overflow: hidden;\r\n",
       "    white-space: nowrap;\r\n",
       "}\r\n",
       ".dni-treeview {\r\n",
       "    white-space: nowrap;\r\n",
       "}\r\n",
       ".dni-treeview td {\r\n",
       "    vertical-align: top;\r\n",
       "    text-align: start;\r\n",
       "}\r\n",
       "details.dni-treeview {\r\n",
       "    padding-left: 1em;\r\n",
       "}\r\n",
       "table td {\r\n",
       "    text-align: start;\r\n",
       "}\r\n",
       "table tr { \r\n",
       "    vertical-align: top; \r\n",
       "    margin: 0em 0px;\r\n",
       "}\r\n",
       "table tr td pre \r\n",
       "{ \r\n",
       "    vertical-align: top !important; \r\n",
       "    margin: 0em 0px !important;\r\n",
       "} \r\n",
       "table th {\r\n",
       "    text-align: start;\r\n",
       "}\r\n",
       "</style>"
      ]
     },
     "metadata": {},
     "output_type": "display_data"
    }
   ],
   "source": [
    "var searchResponse = await client.SearchAsync<Book>(s => s\n",
    "    .Query(q => q\n",
    "        .MultiMatch(m => m\n",
    "            .Fields(Fields.FromStrings([\"summary\", \"title\"]))\n",
    "            .Query(\"javascript\")\n",
    "        )\n",
    "    )\n",
    ");\n",
    "\n",
    "DumpRequest(searchResponse);\n",
    "PrettyPrint(searchResponse);"
   ]
  },
  {
   "cell_type": "markdown",
   "metadata": {},
   "source": [
    "➕ Individual fields can be boosted with the **caret (^) notation**. Note in the following query how the score of the results that have \"JavaScript\" in their title is multiplied."
   ]
  },
  {
   "cell_type": "code",
   "execution_count": null,
   "metadata": {
    "dotnet_interactive": {
     "language": "csharp"
    },
    "polyglot_notebook": {
     "kernelName": "csharp"
    }
   },
   "outputs": [
    {
     "data": {
      "application/json": {
       "query": {
        "multi_match": {
         "fields": [
          "summary",
          "title^3"
         ],
         "query": "javascript"
        }
       }
      }
     },
     "metadata": {},
     "output_type": "display_data"
    },
    {
     "data": {
      "text/csv": [
       "Title,Score,Summary,Id,Publisher,Authors,Reviews\r\n",
       "\"Eloquent JavaScript\",6.0922585,\"A modern introduction to programming\",EyYfqZIBTvBCTLU88r8R,\"no starch press\",System.Collections.Generic.List`1[System.String],38\r\n",
       "\"JavaScript: The Good Parts\",5.1192265,\"A deep dive into the parts of JavaScript that are essential to writing maintainable code\",FiYfqZIBTvBCTLU88r8R,oreilly,System.Collections.Generic.List`1[System.String],51\r\n",
       "\"You Don't Know JS: Up & Going\",1.6360576,\"Introduction to JavaScript and programming as a whole\",EiYfqZIBTvBCTLU88r8R,oreilly,System.Collections.Generic.List`1[System.String],36\r\n"
      ],
      "text/html": [
       "<table><thead><tr><td><span>Title</span></td><td><span>Score</span></td><td><span>Summary</span></td><td><span>Id</span></td><td><span>Publisher</span></td><td><span>Authors</span></td><td><span>Reviews</span></td></tr></thead><tbody><tr><td>Eloquent JavaScript</td><td><div class=\"dni-plaintext\"><pre>6.0922585</pre></div></td><td>A modern introduction to programming</td><td>EyYfqZIBTvBCTLU88r8R</td><td>no starch press</td><td><div class=\"dni-plaintext\"><pre>[ marijn haverbeke ]</pre></div></td><td><div class=\"dni-plaintext\"><pre>38</pre></div></td></tr><tr><td>JavaScript: The Good Parts</td><td><div class=\"dni-plaintext\"><pre>5.1192265</pre></div></td><td>A deep dive into the parts of JavaScript that are essential to writing maintainable code</td><td>FiYfqZIBTvBCTLU88r8R</td><td>oreilly</td><td><div class=\"dni-plaintext\"><pre>[ douglas crockford ]</pre></div></td><td><div class=\"dni-plaintext\"><pre>51</pre></div></td></tr><tr><td>You Don&#39;t Know JS: Up &amp; Going</td><td><div class=\"dni-plaintext\"><pre>1.6360576</pre></div></td><td>Introduction to JavaScript and programming as a whole</td><td>EiYfqZIBTvBCTLU88r8R</td><td>oreilly</td><td><div class=\"dni-plaintext\"><pre>[ kyle simpson ]</pre></div></td><td><div class=\"dni-plaintext\"><pre>36</pre></div></td></tr></tbody></table><style>\r\n",
       ".dni-code-hint {\r\n",
       "    font-style: italic;\r\n",
       "    overflow: hidden;\r\n",
       "    white-space: nowrap;\r\n",
       "}\r\n",
       ".dni-treeview {\r\n",
       "    white-space: nowrap;\r\n",
       "}\r\n",
       ".dni-treeview td {\r\n",
       "    vertical-align: top;\r\n",
       "    text-align: start;\r\n",
       "}\r\n",
       "details.dni-treeview {\r\n",
       "    padding-left: 1em;\r\n",
       "}\r\n",
       "table td {\r\n",
       "    text-align: start;\r\n",
       "}\r\n",
       "table tr { \r\n",
       "    vertical-align: top; \r\n",
       "    margin: 0em 0px;\r\n",
       "}\r\n",
       "table tr td pre \r\n",
       "{ \r\n",
       "    vertical-align: top !important; \r\n",
       "    margin: 0em 0px !important;\r\n",
       "} \r\n",
       "table th {\r\n",
       "    text-align: start;\r\n",
       "}\r\n",
       "</style>"
      ]
     },
     "metadata": {},
     "output_type": "display_data"
    }
   ],
   "source": [
    "var searchResponse = await client.SearchAsync<Book>(s => s\n",
    "    .Query(q => q\n",
    "        .MultiMatch(m => m\n",
    "            .Fields(Fields.FromStrings([\"summary\", \"title^3\"]))\n",
    "            .Query(\"javascript\")\n",
    "        )\n",
    "    )\n",
    ");\n",
    "\n",
    "DumpRequest(searchResponse);\n",
    "PrettyPrint(searchResponse);"
   ]
  },
  {
   "cell_type": "markdown",
   "metadata": {},
   "source": [
    "## Term-level Queries\n",
    "\n",
    "You can use term-level queries to find documents based on precise values in structured data. Examples of structured data include date ranges, IP addresses, prices, or product IDs."
   ]
  },
  {
   "cell_type": "markdown",
   "metadata": {},
   "source": [
    "### Term search\n",
    "Returns document that contain exactly the search term."
   ]
  },
  {
   "cell_type": "code",
   "execution_count": null,
   "metadata": {
    "dotnet_interactive": {
     "language": "csharp"
    },
    "polyglot_notebook": {
     "kernelName": "csharp"
    }
   },
   "outputs": [
    {
     "data": {
      "application/json": {
       "query": {
        "term": {
         "publisher": {
          "value": "addison-wesley"
         }
        }
       }
      }
     },
     "metadata": {},
     "output_type": "display_data"
    },
    {
     "data": {
      "text/csv": [
       "Title,Score,Summary,Id,Publisher,Authors,Reviews\r\n",
       "\"The Pragmatic Programmer: Your Journey to Mastery\",1.4816045,\"A guide to pragmatic programming for software engineers and developers\",DiYfqZIBTvBCTLU88r8R,addison-wesley,System.Collections.Generic.List`1[System.String],30\r\n",
       "\"Design Patterns: Elements of Reusable Object-Oriented Software\",1.4816045,\"Guide to design patterns that can be used in any object-oriented language\",FCYfqZIBTvBCTLU88r8R,addison-wesley,System.Collections.Generic.List`1[System.String],45\r\n"
      ],
      "text/html": [
       "<table><thead><tr><td><span>Title</span></td><td><span>Score</span></td><td><span>Summary</span></td><td><span>Id</span></td><td><span>Publisher</span></td><td><span>Authors</span></td><td><span>Reviews</span></td></tr></thead><tbody><tr><td>The Pragmatic Programmer: Your Journey to Mastery</td><td><div class=\"dni-plaintext\"><pre>1.4816045</pre></div></td><td>A guide to pragmatic programming for software engineers and developers</td><td>DiYfqZIBTvBCTLU88r8R</td><td>addison-wesley</td><td><div class=\"dni-plaintext\"><pre>[ andrew hunt, david thomas ]</pre></div></td><td><div class=\"dni-plaintext\"><pre>30</pre></div></td></tr><tr><td>Design Patterns: Elements of Reusable Object-Oriented Software</td><td><div class=\"dni-plaintext\"><pre>1.4816045</pre></div></td><td>Guide to design patterns that can be used in any object-oriented language</td><td>FCYfqZIBTvBCTLU88r8R</td><td>addison-wesley</td><td><div class=\"dni-plaintext\"><pre>[ erich gamma, richard helm, ralph johnson, john vlissides ]</pre></div></td><td><div class=\"dni-plaintext\"><pre>45</pre></div></td></tr></tbody></table><style>\r\n",
       ".dni-code-hint {\r\n",
       "    font-style: italic;\r\n",
       "    overflow: hidden;\r\n",
       "    white-space: nowrap;\r\n",
       "}\r\n",
       ".dni-treeview {\r\n",
       "    white-space: nowrap;\r\n",
       "}\r\n",
       ".dni-treeview td {\r\n",
       "    vertical-align: top;\r\n",
       "    text-align: start;\r\n",
       "}\r\n",
       "details.dni-treeview {\r\n",
       "    padding-left: 1em;\r\n",
       "}\r\n",
       "table td {\r\n",
       "    text-align: start;\r\n",
       "}\r\n",
       "table tr { \r\n",
       "    vertical-align: top; \r\n",
       "    margin: 0em 0px;\r\n",
       "}\r\n",
       "table tr td pre \r\n",
       "{ \r\n",
       "    vertical-align: top !important; \r\n",
       "    margin: 0em 0px !important;\r\n",
       "} \r\n",
       "table th {\r\n",
       "    text-align: start;\r\n",
       "}\r\n",
       "</style>"
      ]
     },
     "metadata": {},
     "output_type": "display_data"
    }
   ],
   "source": [
    "var searchResponse = await client.SearchAsync<Book>(s => s\n",
    "    .Query(q => q\n",
    "        .Term(t => t\n",
    "            .Field(f => f.Publisher)\n",
    "            .Value(\"addison-wesley\")\n",
    "        )\n",
    "    )\n",
    ");\n",
    "\n",
    "DumpRequest(searchResponse);\n",
    "PrettyPrint(searchResponse);"
   ]
  },
  {
   "cell_type": "markdown",
   "metadata": {},
   "source": [
    "#### Range search\n",
    "\n",
    "Returns documents that contain terms within a provided range.\n",
    "\n",
    "The following example returns books that have at least 45 reviews."
   ]
  },
  {
   "cell_type": "code",
   "execution_count": null,
   "metadata": {
    "dotnet_interactive": {
     "language": "csharp"
    },
    "polyglot_notebook": {
     "kernelName": "csharp"
    }
   },
   "outputs": [
    {
     "data": {
      "application/json": {
       "query": {
        "range": {
         "num_reviews": {
          "gte": 45
         }
        }
       }
      }
     },
     "metadata": {},
     "output_type": "display_data"
    },
    {
     "data": {
      "text/csv": [
       "Title,Score,Summary,Id,Publisher,Authors,Reviews\r\n",
       "\"Clean Code: A Handbook of Agile Software Craftsmanship\",1,\"A guide to writing code that is easy to read, understand and maintain\",ESYfqZIBTvBCTLU88r8R,\"prentice hall\",System.Collections.Generic.List`1[System.String],55\r\n",
       "\"Design Patterns: Elements of Reusable Object-Oriented Software\",1,\"Guide to design patterns that can be used in any object-oriented language\",FCYfqZIBTvBCTLU88r8R,addison-wesley,System.Collections.Generic.List`1[System.String],45\r\n",
       "\"JavaScript: The Good Parts\",1,\"A deep dive into the parts of JavaScript that are essential to writing maintainable code\",FiYfqZIBTvBCTLU88r8R,oreilly,System.Collections.Generic.List`1[System.String],51\r\n"
      ],
      "text/html": [
       "<table><thead><tr><td><span>Title</span></td><td><span>Score</span></td><td><span>Summary</span></td><td><span>Id</span></td><td><span>Publisher</span></td><td><span>Authors</span></td><td><span>Reviews</span></td></tr></thead><tbody><tr><td>Clean Code: A Handbook of Agile Software Craftsmanship</td><td><div class=\"dni-plaintext\"><pre>1</pre></div></td><td>A guide to writing code that is easy to read, understand and maintain</td><td>ESYfqZIBTvBCTLU88r8R</td><td>prentice hall</td><td><div class=\"dni-plaintext\"><pre>[ robert c. martin ]</pre></div></td><td><div class=\"dni-plaintext\"><pre>55</pre></div></td></tr><tr><td>Design Patterns: Elements of Reusable Object-Oriented Software</td><td><div class=\"dni-plaintext\"><pre>1</pre></div></td><td>Guide to design patterns that can be used in any object-oriented language</td><td>FCYfqZIBTvBCTLU88r8R</td><td>addison-wesley</td><td><div class=\"dni-plaintext\"><pre>[ erich gamma, richard helm, ralph johnson, john vlissides ]</pre></div></td><td><div class=\"dni-plaintext\"><pre>45</pre></div></td></tr><tr><td>JavaScript: The Good Parts</td><td><div class=\"dni-plaintext\"><pre>1</pre></div></td><td>A deep dive into the parts of JavaScript that are essential to writing maintainable code</td><td>FiYfqZIBTvBCTLU88r8R</td><td>oreilly</td><td><div class=\"dni-plaintext\"><pre>[ douglas crockford ]</pre></div></td><td><div class=\"dni-plaintext\"><pre>51</pre></div></td></tr></tbody></table><style>\r\n",
       ".dni-code-hint {\r\n",
       "    font-style: italic;\r\n",
       "    overflow: hidden;\r\n",
       "    white-space: nowrap;\r\n",
       "}\r\n",
       ".dni-treeview {\r\n",
       "    white-space: nowrap;\r\n",
       "}\r\n",
       ".dni-treeview td {\r\n",
       "    vertical-align: top;\r\n",
       "    text-align: start;\r\n",
       "}\r\n",
       "details.dni-treeview {\r\n",
       "    padding-left: 1em;\r\n",
       "}\r\n",
       "table td {\r\n",
       "    text-align: start;\r\n",
       "}\r\n",
       "table tr { \r\n",
       "    vertical-align: top; \r\n",
       "    margin: 0em 0px;\r\n",
       "}\r\n",
       "table tr td pre \r\n",
       "{ \r\n",
       "    vertical-align: top !important; \r\n",
       "    margin: 0em 0px !important;\r\n",
       "} \r\n",
       "table th {\r\n",
       "    text-align: start;\r\n",
       "}\r\n",
       "</style>"
      ]
     },
     "metadata": {},
     "output_type": "display_data"
    }
   ],
   "source": [
    "var searchResponse = await client.SearchAsync<Book>(s => s\n",
    "    .Query(q => q\n",
    "        .Range(r => r\n",
    "            .NumberRange(nr => nr.Field(f => f.num_reviews).Gte(45))\n",
    "        )\n",
    "    )\n",
    ");\n",
    "\n",
    "DumpRequest(searchResponse);\n",
    "PrettyPrint(searchResponse);"
   ]
  },
  {
   "cell_type": "markdown",
   "metadata": {},
   "source": [
    "#### Prefix search\n",
    "\n",
    "Returns documents that contain a specific prefix in a provided field.\n",
    "\n",
    "> 💡 [Read more](https://www.elastic.co/guide/en/elasticsearch/reference/current/query-dsl-prefix-query.html)."
   ]
  },
  {
   "cell_type": "code",
   "execution_count": null,
   "metadata": {
    "dotnet_interactive": {
     "language": "csharp"
    },
    "polyglot_notebook": {
     "kernelName": "csharp"
    }
   },
   "outputs": [
    {
     "data": {
      "application/json": {
       "query": {
        "prefix": {
         "title": {
          "value": "java"
         }
        }
       }
      }
     },
     "metadata": {},
     "output_type": "display_data"
    },
    {
     "data": {
      "text/csv": [
       "Title,Score,Summary,Id,Publisher,Authors,Reviews\r\n",
       "\"Eloquent JavaScript\",1,\"A modern introduction to programming\",EyYfqZIBTvBCTLU88r8R,\"no starch press\",System.Collections.Generic.List`1[System.String],38\r\n",
       "\"JavaScript: The Good Parts\",1,\"A deep dive into the parts of JavaScript that are essential to writing maintainable code\",FiYfqZIBTvBCTLU88r8R,oreilly,System.Collections.Generic.List`1[System.String],51\r\n"
      ],
      "text/html": [
       "<table><thead><tr><td><span>Title</span></td><td><span>Score</span></td><td><span>Summary</span></td><td><span>Id</span></td><td><span>Publisher</span></td><td><span>Authors</span></td><td><span>Reviews</span></td></tr></thead><tbody><tr><td>Eloquent JavaScript</td><td><div class=\"dni-plaintext\"><pre>1</pre></div></td><td>A modern introduction to programming</td><td>EyYfqZIBTvBCTLU88r8R</td><td>no starch press</td><td><div class=\"dni-plaintext\"><pre>[ marijn haverbeke ]</pre></div></td><td><div class=\"dni-plaintext\"><pre>38</pre></div></td></tr><tr><td>JavaScript: The Good Parts</td><td><div class=\"dni-plaintext\"><pre>1</pre></div></td><td>A deep dive into the parts of JavaScript that are essential to writing maintainable code</td><td>FiYfqZIBTvBCTLU88r8R</td><td>oreilly</td><td><div class=\"dni-plaintext\"><pre>[ douglas crockford ]</pre></div></td><td><div class=\"dni-plaintext\"><pre>51</pre></div></td></tr></tbody></table><style>\r\n",
       ".dni-code-hint {\r\n",
       "    font-style: italic;\r\n",
       "    overflow: hidden;\r\n",
       "    white-space: nowrap;\r\n",
       "}\r\n",
       ".dni-treeview {\r\n",
       "    white-space: nowrap;\r\n",
       "}\r\n",
       ".dni-treeview td {\r\n",
       "    vertical-align: top;\r\n",
       "    text-align: start;\r\n",
       "}\r\n",
       "details.dni-treeview {\r\n",
       "    padding-left: 1em;\r\n",
       "}\r\n",
       "table td {\r\n",
       "    text-align: start;\r\n",
       "}\r\n",
       "table tr { \r\n",
       "    vertical-align: top; \r\n",
       "    margin: 0em 0px;\r\n",
       "}\r\n",
       "table tr td pre \r\n",
       "{ \r\n",
       "    vertical-align: top !important; \r\n",
       "    margin: 0em 0px !important;\r\n",
       "} \r\n",
       "table th {\r\n",
       "    text-align: start;\r\n",
       "}\r\n",
       "</style>"
      ]
     },
     "metadata": {},
     "output_type": "display_data"
    }
   ],
   "source": [
    "var searchResponse = await client.SearchAsync<Book>(s => s\n",
    "    .Query(q => q\n",
    "        .Prefix(p => p\n",
    "            .Field(f => f.Title)\n",
    "            .Value(\"java\")\n",
    "        )\n",
    "    )\n",
    ");\n",
    "\n",
    "DumpRequest(searchResponse);\n",
    "PrettyPrint(searchResponse);"
   ]
  },
  {
   "cell_type": "markdown",
   "metadata": {},
   "source": [
    "#### Fuzzy search\n",
    "\n",
    "Returns documents that contain terms similar to the search term, as measured by a *Levenshtein edit* distance.\n",
    "\n",
    "An edit distance is the number of one-character changes needed to turn one term into another. These changes can include:\n",
    "\n",
    "* Changing a character (box → fox)\n",
    "* Removing a character (black → lack)\n",
    "* Inserting a character (sic → sick)\n",
    "* Transposing two adjacent characters (act → cat)\n",
    "\n",
    "> 💡 [Read more](https://www.elastic.co/guide/en/elasticsearch/reference/current/query-dsl-fuzzy-query.html)."
   ]
  },
  {
   "cell_type": "code",
   "execution_count": null,
   "metadata": {
    "dotnet_interactive": {
     "language": "csharp"
    },
    "polyglot_notebook": {
     "kernelName": "csharp"
    }
   },
   "outputs": [
    {
     "data": {
      "application/json": {
       "query": {
        "fuzzy": {
         "title": {
          "value": "pyvascript"
         }
        }
       }
      }
     },
     "metadata": {},
     "output_type": "display_data"
    },
    {
     "data": {
      "text/csv": [
       "Title,Score,Summary,Id,Publisher,Authors,Reviews\r\n",
       "\"Eloquent JavaScript\",1.6246022,\"A modern introduction to programming\",EyYfqZIBTvBCTLU88r8R,\"no starch press\",System.Collections.Generic.List`1[System.String],38\r\n",
       "\"JavaScript: The Good Parts\",1.3651271,\"A deep dive into the parts of JavaScript that are essential to writing maintainable code\",FiYfqZIBTvBCTLU88r8R,oreilly,System.Collections.Generic.List`1[System.String],51\r\n"
      ],
      "text/html": [
       "<table><thead><tr><td><span>Title</span></td><td><span>Score</span></td><td><span>Summary</span></td><td><span>Id</span></td><td><span>Publisher</span></td><td><span>Authors</span></td><td><span>Reviews</span></td></tr></thead><tbody><tr><td>Eloquent JavaScript</td><td><div class=\"dni-plaintext\"><pre>1.6246022</pre></div></td><td>A modern introduction to programming</td><td>EyYfqZIBTvBCTLU88r8R</td><td>no starch press</td><td><div class=\"dni-plaintext\"><pre>[ marijn haverbeke ]</pre></div></td><td><div class=\"dni-plaintext\"><pre>38</pre></div></td></tr><tr><td>JavaScript: The Good Parts</td><td><div class=\"dni-plaintext\"><pre>1.3651271</pre></div></td><td>A deep dive into the parts of JavaScript that are essential to writing maintainable code</td><td>FiYfqZIBTvBCTLU88r8R</td><td>oreilly</td><td><div class=\"dni-plaintext\"><pre>[ douglas crockford ]</pre></div></td><td><div class=\"dni-plaintext\"><pre>51</pre></div></td></tr></tbody></table><style>\r\n",
       ".dni-code-hint {\r\n",
       "    font-style: italic;\r\n",
       "    overflow: hidden;\r\n",
       "    white-space: nowrap;\r\n",
       "}\r\n",
       ".dni-treeview {\r\n",
       "    white-space: nowrap;\r\n",
       "}\r\n",
       ".dni-treeview td {\r\n",
       "    vertical-align: top;\r\n",
       "    text-align: start;\r\n",
       "}\r\n",
       "details.dni-treeview {\r\n",
       "    padding-left: 1em;\r\n",
       "}\r\n",
       "table td {\r\n",
       "    text-align: start;\r\n",
       "}\r\n",
       "table tr { \r\n",
       "    vertical-align: top; \r\n",
       "    margin: 0em 0px;\r\n",
       "}\r\n",
       "table tr td pre \r\n",
       "{ \r\n",
       "    vertical-align: top !important; \r\n",
       "    margin: 0em 0px !important;\r\n",
       "} \r\n",
       "table th {\r\n",
       "    text-align: start;\r\n",
       "}\r\n",
       "</style>"
      ]
     },
     "metadata": {},
     "output_type": "display_data"
    }
   ],
   "source": [
    "var searchResponse = await client.SearchAsync<Book>(s => s\n",
    "    .Query(q => q\n",
    "        .Fuzzy(f => f\n",
    "            .Field(ff => ff.Title)\n",
    "            .Value(\"pyvascript\")\n",
    "        )\n",
    "    )\n",
    ");\n",
    "\n",
    "DumpRequest(searchResponse);\n",
    "PrettyPrint(searchResponse);"
   ]
  },
  {
   "cell_type": "markdown",
   "metadata": {},
   "source": [
    "### Combining Query Conditions\n",
    "\n",
    "Compound queries wrap other compound or leaf queries, either to combine their results and scores, or to change their behaviour. They also allow you to switch from query to filter context, but that will be covered later in the Filtering section."
   ]
  },
  {
   "cell_type": "markdown",
   "metadata": {},
   "source": [
    "#### bool.must (AND)\n",
    "The clauses must appear in matching documents and will contribute to the score. This effectively performs an \"AND\" logical operation on the given sub-queries."
   ]
  },
  {
   "cell_type": "code",
   "execution_count": null,
   "metadata": {
    "dotnet_interactive": {
     "language": "csharp"
    },
    "polyglot_notebook": {
     "kernelName": "csharp"
    }
   },
   "outputs": [
    {
     "data": {
      "application/json": {
       "query": {
        "bool": {
         "must": [
          {
           "term": {
            "publisher": {
             "value": "addison-wesley"
            }
           }
          },
          {
           "term": {
            "authors": {
             "value": "richard helm"
            }
           }
          }
         ]
        }
       }
      }
     },
     "metadata": {},
     "output_type": "display_data"
    },
    {
     "data": {
      "text/csv": [
       "Title,Score,Summary,Id,Publisher,Authors,Reviews\r\n",
       "\"Design Patterns: Elements of Reusable Object-Oriented Software\",3.788629,\"Guide to design patterns that can be used in any object-oriented language\",FCYfqZIBTvBCTLU88r8R,addison-wesley,System.Collections.Generic.List`1[System.String],45\r\n"
      ],
      "text/html": [
       "<table><thead><tr><td><span>Title</span></td><td><span>Score</span></td><td><span>Summary</span></td><td><span>Id</span></td><td><span>Publisher</span></td><td><span>Authors</span></td><td><span>Reviews</span></td></tr></thead><tbody><tr><td>Design Patterns: Elements of Reusable Object-Oriented Software</td><td><div class=\"dni-plaintext\"><pre>3.788629</pre></div></td><td>Guide to design patterns that can be used in any object-oriented language</td><td>FCYfqZIBTvBCTLU88r8R</td><td>addison-wesley</td><td><div class=\"dni-plaintext\"><pre>[ erich gamma, richard helm, ralph johnson, john vlissides ]</pre></div></td><td><div class=\"dni-plaintext\"><pre>45</pre></div></td></tr></tbody></table><style>\r\n",
       ".dni-code-hint {\r\n",
       "    font-style: italic;\r\n",
       "    overflow: hidden;\r\n",
       "    white-space: nowrap;\r\n",
       "}\r\n",
       ".dni-treeview {\r\n",
       "    white-space: nowrap;\r\n",
       "}\r\n",
       ".dni-treeview td {\r\n",
       "    vertical-align: top;\r\n",
       "    text-align: start;\r\n",
       "}\r\n",
       "details.dni-treeview {\r\n",
       "    padding-left: 1em;\r\n",
       "}\r\n",
       "table td {\r\n",
       "    text-align: start;\r\n",
       "}\r\n",
       "table tr { \r\n",
       "    vertical-align: top; \r\n",
       "    margin: 0em 0px;\r\n",
       "}\r\n",
       "table tr td pre \r\n",
       "{ \r\n",
       "    vertical-align: top !important; \r\n",
       "    margin: 0em 0px !important;\r\n",
       "} \r\n",
       "table th {\r\n",
       "    text-align: start;\r\n",
       "}\r\n",
       "</style>"
      ]
     },
     "metadata": {},
     "output_type": "display_data"
    }
   ],
   "source": [
    "var searchResponse = await client.SearchAsync<Book>(s => s\n",
    "    .Query(q => q\n",
    "        .Bool(b => b\n",
    "            .Must(m => m\n",
    "                .Term(t => t\n",
    "                    .Field(f => f.Publisher)\n",
    "                    .Value(\"addison-wesley\")\n",
    "                ),\n",
    "                m => m\n",
    "                .Term(t => t\n",
    "                    .Field(f => f.Authors)\n",
    "                    .Value(\"richard helm\")\n",
    "                )\n",
    "            )\n",
    "        )\n",
    "    )\n",
    ");\n",
    "\n",
    "DumpRequest(searchResponse);\n",
    "PrettyPrint(searchResponse);"
   ]
  },
  {
   "cell_type": "markdown",
   "metadata": {},
   "source": [
    "#### bool.should (OR)\n",
    "\n",
    "The clause should appear in the matching document. This performs an \"OR\" logical operation on the given sub-queries."
   ]
  },
  {
   "cell_type": "code",
   "execution_count": null,
   "metadata": {},
   "outputs": [
    {
     "data": {
      "application/json": {
       "query": {
        "bool": {
         "should": [
          {
           "term": {
            "publisher": {
             "value": "addison-wesley"
            }
           }
          },
          {
           "term": {
            "authors": {
             "value": "richard helm"
            }
           }
          }
         ]
        }
       }
      }
     },
     "metadata": {},
     "output_type": "display_data"
    },
    {
     "data": {
      "text/csv": [
       "Title,Score,Summary,Id,Publisher,Authors,Reviews\r\n",
       "\"Design Patterns: Elements of Reusable Object-Oriented Software\",3.788629,\"Guide to design patterns that can be used in any object-oriented language\",FCYfqZIBTvBCTLU88r8R,addison-wesley,System.Collections.Generic.List`1[System.String],45\r\n",
       "\"The Pragmatic Programmer: Your Journey to Mastery\",1.4816045,\"A guide to pragmatic programming for software engineers and developers\",DiYfqZIBTvBCTLU88r8R,addison-wesley,System.Collections.Generic.List`1[System.String],30\r\n"
      ],
      "text/html": [
       "<table><thead><tr><td><span>Title</span></td><td><span>Score</span></td><td><span>Summary</span></td><td><span>Id</span></td><td><span>Publisher</span></td><td><span>Authors</span></td><td><span>Reviews</span></td></tr></thead><tbody><tr><td>Design Patterns: Elements of Reusable Object-Oriented Software</td><td><div class=\"dni-plaintext\"><pre>3.788629</pre></div></td><td>Guide to design patterns that can be used in any object-oriented language</td><td>FCYfqZIBTvBCTLU88r8R</td><td>addison-wesley</td><td><div class=\"dni-plaintext\"><pre>[ erich gamma, richard helm, ralph johnson, john vlissides ]</pre></div></td><td><div class=\"dni-plaintext\"><pre>45</pre></div></td></tr><tr><td>The Pragmatic Programmer: Your Journey to Mastery</td><td><div class=\"dni-plaintext\"><pre>1.4816045</pre></div></td><td>A guide to pragmatic programming for software engineers and developers</td><td>DiYfqZIBTvBCTLU88r8R</td><td>addison-wesley</td><td><div class=\"dni-plaintext\"><pre>[ andrew hunt, david thomas ]</pre></div></td><td><div class=\"dni-plaintext\"><pre>30</pre></div></td></tr></tbody></table><style>\r\n",
       ".dni-code-hint {\r\n",
       "    font-style: italic;\r\n",
       "    overflow: hidden;\r\n",
       "    white-space: nowrap;\r\n",
       "}\r\n",
       ".dni-treeview {\r\n",
       "    white-space: nowrap;\r\n",
       "}\r\n",
       ".dni-treeview td {\r\n",
       "    vertical-align: top;\r\n",
       "    text-align: start;\r\n",
       "}\r\n",
       "details.dni-treeview {\r\n",
       "    padding-left: 1em;\r\n",
       "}\r\n",
       "table td {\r\n",
       "    text-align: start;\r\n",
       "}\r\n",
       "table tr { \r\n",
       "    vertical-align: top; \r\n",
       "    margin: 0em 0px;\r\n",
       "}\r\n",
       "table tr td pre \r\n",
       "{ \r\n",
       "    vertical-align: top !important; \r\n",
       "    margin: 0em 0px !important;\r\n",
       "} \r\n",
       "table th {\r\n",
       "    text-align: start;\r\n",
       "}\r\n",
       "</style>"
      ]
     },
     "metadata": {},
     "output_type": "display_data"
    }
   ],
   "source": [
    "// shoud\n",
    "\n",
    "var searchResponse = await client.SearchAsync<Book>(s => s\n",
    "    .Query(q => q\n",
    "        .Bool(b => b\n",
    "            .Should(m => m\n",
    "                .Term(t => t\n",
    "                    .Field(f => f.Publisher)\n",
    "                    .Value(\"addison-wesley\")\n",
    "                ),\n",
    "                m => m\n",
    "                .Term(t => t\n",
    "                    .Field(f => f.Authors)\n",
    "                    .Value(\"richard helm\")\n",
    "                )\n",
    "            )\n",
    "        )\n",
    "    )\n",
    ");\n",
    "\n",
    "DumpRequest(searchResponse);\n",
    "PrettyPrint(searchResponse);"
   ]
  },
  {
   "cell_type": "markdown",
   "metadata": {},
   "source": [
    "## Filtering\n",
    "In a filter context, a query clause answers the question “Does this document match this query clause?” The answer is a simple Yes or No — no scores are calculated. Filter context is mostly used for filtering structured data, for example:\n",
    "\n",
    "* Does this `timestamp` fall into the range 2015 to 2016?\n",
    "* Is the `status` field set to *\"published\"*?\n",
    "\n",
    "Filter context is in effect whenever a query clause is passed to a `filter` parameter, such as the `filter` or `must_not` parameters in the `bool` query.\n",
    "\n",
    "> 💡 [Read more](https://www.elastic.co/guide/en/elasticsearch/reference/current/query-dsl-bool-query.html)."
   ]
  },
  {
   "cell_type": "markdown",
   "metadata": {},
   "source": [
    "### bool.filter\n",
    "The clause (query) must appear for the document to be included in the results. Unlike query context searches such as term, bool.must or bool.should, a matching score isn't calculated because filter clauses are executed in filter context."
   ]
  },
  {
   "cell_type": "code",
   "execution_count": null,
   "metadata": {},
   "outputs": [
    {
     "data": {
      "application/json": {
       "query": {
        "bool": {
         "filter": {
          "term": {
           "publisher": {
            "value": "prentice hall"
           }
          }
         }
        }
       }
      }
     },
     "metadata": {},
     "output_type": "display_data"
    },
    {
     "data": {
      "text/csv": [
       "Title,Score,Summary,Id,Publisher,Authors,Reviews\r\n",
       "\"Clean Code: A Handbook of Agile Software Craftsmanship\",0,\"A guide to writing code that is easy to read, understand and maintain\",ESYfqZIBTvBCTLU88r8R,\"prentice hall\",System.Collections.Generic.List`1[System.String],55\r\n",
       "\"The Clean Coder: A Code of Conduct for Professional Programmers\",0,\"A guide to professional conduct in the field of software engineering\",FSYfqZIBTvBCTLU88r8R,\"prentice hall\",System.Collections.Generic.List`1[System.String],20\r\n"
      ],
      "text/html": [
       "<table><thead><tr><td><span>Title</span></td><td><span>Score</span></td><td><span>Summary</span></td><td><span>Id</span></td><td><span>Publisher</span></td><td><span>Authors</span></td><td><span>Reviews</span></td></tr></thead><tbody><tr><td>Clean Code: A Handbook of Agile Software Craftsmanship</td><td><div class=\"dni-plaintext\"><pre>0</pre></div></td><td>A guide to writing code that is easy to read, understand and maintain</td><td>ESYfqZIBTvBCTLU88r8R</td><td>prentice hall</td><td><div class=\"dni-plaintext\"><pre>[ robert c. martin ]</pre></div></td><td><div class=\"dni-plaintext\"><pre>55</pre></div></td></tr><tr><td>The Clean Coder: A Code of Conduct for Professional Programmers</td><td><div class=\"dni-plaintext\"><pre>0</pre></div></td><td>A guide to professional conduct in the field of software engineering</td><td>FSYfqZIBTvBCTLU88r8R</td><td>prentice hall</td><td><div class=\"dni-plaintext\"><pre>[ robert c. martin ]</pre></div></td><td><div class=\"dni-plaintext\"><pre>20</pre></div></td></tr></tbody></table><style>\r\n",
       ".dni-code-hint {\r\n",
       "    font-style: italic;\r\n",
       "    overflow: hidden;\r\n",
       "    white-space: nowrap;\r\n",
       "}\r\n",
       ".dni-treeview {\r\n",
       "    white-space: nowrap;\r\n",
       "}\r\n",
       ".dni-treeview td {\r\n",
       "    vertical-align: top;\r\n",
       "    text-align: start;\r\n",
       "}\r\n",
       "details.dni-treeview {\r\n",
       "    padding-left: 1em;\r\n",
       "}\r\n",
       "table td {\r\n",
       "    text-align: start;\r\n",
       "}\r\n",
       "table tr { \r\n",
       "    vertical-align: top; \r\n",
       "    margin: 0em 0px;\r\n",
       "}\r\n",
       "table tr td pre \r\n",
       "{ \r\n",
       "    vertical-align: top !important; \r\n",
       "    margin: 0em 0px !important;\r\n",
       "} \r\n",
       "table th {\r\n",
       "    text-align: start;\r\n",
       "}\r\n",
       "</style>"
      ]
     },
     "metadata": {},
     "output_type": "display_data"
    }
   ],
   "source": [
    "var searchResponse = await client.SearchAsync<Book>(s => s\n",
    "    .Query(q => q\n",
    "        .Bool(b => b\n",
    "            .Filter(m => m\n",
    "                .Term(t => t\n",
    "                    .Field(f => f.Publisher)\n",
    "                    .Value(\"prentice hall\")\n",
    "                )\n",
    "            )\n",
    "        )\n",
    "    )\n",
    ");\n",
    "\n",
    "DumpRequest(searchResponse);\n",
    "PrettyPrint(searchResponse);"
   ]
  },
  {
   "cell_type": "markdown",
   "metadata": {},
   "source": [
    "### bool.must_not\n",
    "The clause (query) must not appear in the matching documents. Because this query also runs in filter context, no scores are calculated; the filter just determines if a document is included in the results or not."
   ]
  },
  {
   "cell_type": "code",
   "execution_count": null,
   "metadata": {},
   "outputs": [
    {
     "data": {
      "application/json": {
       "query": {
        "bool": {
         "must_not": {
          "range": {
           "num_reviews": {
            "lte": 45
           }
          }
         }
        }
       }
      }
     },
     "metadata": {},
     "output_type": "display_data"
    },
    {
     "data": {
      "text/csv": [
       "Title,Score,Summary,Id,Publisher,Authors,Reviews\r\n",
       "\"Clean Code: A Handbook of Agile Software Craftsmanship\",0,\"A guide to writing code that is easy to read, understand and maintain\",ESYfqZIBTvBCTLU88r8R,\"prentice hall\",System.Collections.Generic.List`1[System.String],55\r\n",
       "\"JavaScript: The Good Parts\",0,\"A deep dive into the parts of JavaScript that are essential to writing maintainable code\",FiYfqZIBTvBCTLU88r8R,oreilly,System.Collections.Generic.List`1[System.String],51\r\n"
      ],
      "text/html": [
       "<table><thead><tr><td><span>Title</span></td><td><span>Score</span></td><td><span>Summary</span></td><td><span>Id</span></td><td><span>Publisher</span></td><td><span>Authors</span></td><td><span>Reviews</span></td></tr></thead><tbody><tr><td>Clean Code: A Handbook of Agile Software Craftsmanship</td><td><div class=\"dni-plaintext\"><pre>0</pre></div></td><td>A guide to writing code that is easy to read, understand and maintain</td><td>ESYfqZIBTvBCTLU88r8R</td><td>prentice hall</td><td><div class=\"dni-plaintext\"><pre>[ robert c. martin ]</pre></div></td><td><div class=\"dni-plaintext\"><pre>55</pre></div></td></tr><tr><td>JavaScript: The Good Parts</td><td><div class=\"dni-plaintext\"><pre>0</pre></div></td><td>A deep dive into the parts of JavaScript that are essential to writing maintainable code</td><td>FiYfqZIBTvBCTLU88r8R</td><td>oreilly</td><td><div class=\"dni-plaintext\"><pre>[ douglas crockford ]</pre></div></td><td><div class=\"dni-plaintext\"><pre>51</pre></div></td></tr></tbody></table><style>\r\n",
       ".dni-code-hint {\r\n",
       "    font-style: italic;\r\n",
       "    overflow: hidden;\r\n",
       "    white-space: nowrap;\r\n",
       "}\r\n",
       ".dni-treeview {\r\n",
       "    white-space: nowrap;\r\n",
       "}\r\n",
       ".dni-treeview td {\r\n",
       "    vertical-align: top;\r\n",
       "    text-align: start;\r\n",
       "}\r\n",
       "details.dni-treeview {\r\n",
       "    padding-left: 1em;\r\n",
       "}\r\n",
       "table td {\r\n",
       "    text-align: start;\r\n",
       "}\r\n",
       "table tr { \r\n",
       "    vertical-align: top; \r\n",
       "    margin: 0em 0px;\r\n",
       "}\r\n",
       "table tr td pre \r\n",
       "{ \r\n",
       "    vertical-align: top !important; \r\n",
       "    margin: 0em 0px !important;\r\n",
       "} \r\n",
       "table th {\r\n",
       "    text-align: start;\r\n",
       "}\r\n",
       "</style>"
      ]
     },
     "metadata": {},
     "output_type": "display_data"
    }
   ],
   "source": [
    "var searchResponse = await client.SearchAsync<Book>(s => s\n",
    "    .Query(q => q\n",
    "        .Bool(b => b\n",
    "            .MustNot(m => m\n",
    "                .Range(r => r.NumberRange(nr => nr.Field(f => f.num_reviews).Lte(45)))\n",
    "            )\n",
    "        )\n",
    "    )\n",
    ");\n",
    "\n",
    "DumpRequest(searchResponse);\n",
    "PrettyPrint(searchResponse);"
   ]
  },
  {
   "cell_type": "markdown",
   "metadata": {},
   "source": [
    "### Using Filters with Queries\n",
    "Filters are often added to search queries with the intention of limiting the search to a subset of the documents. A filter can cleanly eliminate documents from a search, without altering the relevance scores of the results.\n",
    "\n",
    "The next example returns books that have the word \"javascript\" in their title, only among the books that have more than 45 reviews."
   ]
  },
  {
   "cell_type": "code",
   "execution_count": null,
   "metadata": {},
   "outputs": [
    {
     "data": {
      "application/json": {
       "query": {
        "bool": {
         "must": {
          "match": {
           "title": {
            "query": "javascript"
           }
          }
         },
         "must_not": {
          "range": {
           "num_reviews": {
            "lte": 45
           }
          }
         }
        }
       }
      }
     },
     "metadata": {},
     "output_type": "display_data"
    },
    {
     "data": {
      "text/csv": [
       "Title,Score,Summary,Id,Publisher,Authors,Reviews\r\n",
       "\"JavaScript: The Good Parts\",1.7064086,\"A deep dive into the parts of JavaScript that are essential to writing maintainable code\",FiYfqZIBTvBCTLU88r8R,oreilly,System.Collections.Generic.List`1[System.String],51\r\n"
      ],
      "text/html": [
       "<table><thead><tr><td><span>Title</span></td><td><span>Score</span></td><td><span>Summary</span></td><td><span>Id</span></td><td><span>Publisher</span></td><td><span>Authors</span></td><td><span>Reviews</span></td></tr></thead><tbody><tr><td>JavaScript: The Good Parts</td><td><div class=\"dni-plaintext\"><pre>1.7064086</pre></div></td><td>A deep dive into the parts of JavaScript that are essential to writing maintainable code</td><td>FiYfqZIBTvBCTLU88r8R</td><td>oreilly</td><td><div class=\"dni-plaintext\"><pre>[ douglas crockford ]</pre></div></td><td><div class=\"dni-plaintext\"><pre>51</pre></div></td></tr></tbody></table><style>\r\n",
       ".dni-code-hint {\r\n",
       "    font-style: italic;\r\n",
       "    overflow: hidden;\r\n",
       "    white-space: nowrap;\r\n",
       "}\r\n",
       ".dni-treeview {\r\n",
       "    white-space: nowrap;\r\n",
       "}\r\n",
       ".dni-treeview td {\r\n",
       "    vertical-align: top;\r\n",
       "    text-align: start;\r\n",
       "}\r\n",
       "details.dni-treeview {\r\n",
       "    padding-left: 1em;\r\n",
       "}\r\n",
       "table td {\r\n",
       "    text-align: start;\r\n",
       "}\r\n",
       "table tr { \r\n",
       "    vertical-align: top; \r\n",
       "    margin: 0em 0px;\r\n",
       "}\r\n",
       "table tr td pre \r\n",
       "{ \r\n",
       "    vertical-align: top !important; \r\n",
       "    margin: 0em 0px !important;\r\n",
       "} \r\n",
       "table th {\r\n",
       "    text-align: start;\r\n",
       "}\r\n",
       "</style>"
      ]
     },
     "metadata": {},
     "output_type": "display_data"
    }
   ],
   "source": [
    "var searchResponse = await client.SearchAsync<Book>(s => s\n",
    "    .Query(q => q\n",
    "        .Bool(b => b\n",
    "            .Must(m => m\n",
    "                .Match(t => t\n",
    "                    .Field(f => f.Title).Query(\"javascript\")\n",
    "                )\n",
    "            )\n",
    "            .MustNot(m => m\n",
    "                .Range(r => r.NumberRange(nr => nr.Field(f => f.num_reviews).Lte(45)))\n",
    "            )\n",
    "        )\n",
    "    )\n",
    ");\n",
    "\n",
    "DumpRequest(searchResponse);\n",
    "PrettyPrint(searchResponse);"
   ]
  }
 ],
 "metadata": {
  "kernelspec": {
   "display_name": ".NET (C#)",
   "language": "C#",
   "name": ".net-csharp"
  },
  "polyglot_notebook": {
   "kernelInfo": {
    "defaultKernelName": "csharp",
    "items": [
     {
      "aliases": [],
      "languageName": "csharp",
      "name": "csharp"
     }
    ]
   }
  }
 },
 "nbformat": 4,
 "nbformat_minor": 2
}
