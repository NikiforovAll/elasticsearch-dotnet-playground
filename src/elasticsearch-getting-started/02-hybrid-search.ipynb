{
 "cells": [
  {
   "cell_type": "markdown",
   "metadata": {},
   "source": [
    "# Hybrid Search using RRF\n",
    "\n",
    "In this example we'll use the *reciprocal rank fusion algorithm* to combine the results of **BM25** and **kNN semantic search**. We'll use the same dataset we used in our quickstart guide.\n",
    "\n",
    "You can use RRF for hybrid search out of the box, without any additional configuration. This example demonstrates how RRF ranking works at a basic level."
   ]
  },
  {
   "cell_type": "markdown",
   "metadata": {},
   "source": [
    "## Initialize the Elasticsearch client\n",
    "\n",
    "Now, we need to initialize the Elasticsearch client. We will use the [Elasticsearch client for .NET](https://www.elastic.co/guide/en/elasticsearch/client/net-api/current/index.html) to connect to Elasticsearch.\n"
   ]
  },
  {
   "cell_type": "markdown",
   "metadata": {},
   "source": [
    "#### Install packages and import modules"
   ]
  },
  {
   "cell_type": "code",
   "execution_count": null,
   "metadata": {},
   "outputs": [],
   "source": [
    "#r \"nuget: Elastic.Clients.Elasticsearch\"\n",
    "\n",
    "#!import ./Utils.cs\n",
    "\n",
    "#!set --name elasticCloudId --value @input\n",
    "#!set --name elasticCloudKey --value @input"
   ]
  },
  {
   "cell_type": "markdown",
   "metadata": {},
   "source": [
    "#### Initialize Client"
   ]
  },
  {
   "cell_type": "code",
   "execution_count": null,
   "metadata": {},
   "outputs": [],
   "source": [
    "using Elastic.Transport;\n",
    "using Elastic.Clients.Elasticsearch;\n",
    "using Elastic.Transport.Products.Elasticsearch;\n",
    "\n",
    "var elasticSettings = new ElasticsearchClientSettings(\n",
    "    elasticCloudId, new ApiKey(elasticCloudKey))\n",
    "    .DisableDirectStreaming()\n",
    "    .ServerCertificateValidationCallback(CertificateValidations.AllowAll);\n",
    "\n",
    "var client = new ElasticsearchClient(elasticSettings);"
   ]
  },
  {
   "cell_type": "markdown",
   "metadata": {},
   "source": [
    "#### Test the Client\n",
    "\n",
    "Before you continue, confirm that the client has connected with this test.\n"
   ]
  },
  {
   "cell_type": "code",
   "execution_count": null,
   "metadata": {},
   "outputs": [],
   "source": [
    "var info = await client.InfoAsync();\n",
    "\n",
    "DumpResponse(info);"
   ]
  },
  {
   "cell_type": "markdown",
   "metadata": {},
   "source": [
    "## Define Model\n"
   ]
  },
  {
   "cell_type": "code",
   "execution_count": null,
   "metadata": {},
   "outputs": [],
   "source": [
    "using System.Text.Json.Serialization;\n",
    "\n",
    "public class Book\n",
    "{\n",
    "    [JsonPropertyName(\"title\")]\n",
    "    public string Title { get; set; }\n",
    "\n",
    "    [JsonPropertyName(\"summary\")]\n",
    "    public string Summary { get; set; }\n",
    "\n",
    "    [JsonPropertyName(\"authors\")]\n",
    "    public List<string> Authors { get; set; }\n",
    "\n",
    "    [JsonPropertyName(\"publish_date\")]\n",
    "    public DateTime publish_date { get; set; }\n",
    "\n",
    "    [JsonPropertyName(\"num_reviews\")]\n",
    "    public int num_reviews { get; set; }\n",
    "\n",
    "    [JsonPropertyName(\"publisher\")]\n",
    "    public string Publisher { get; set; }\n",
    "\n",
    "\n",
    "    public float[] TitleVector { get; set; }\n",
    "}"
   ]
  },
  {
   "cell_type": "markdown",
   "metadata": {},
   "source": [
    "#### Pretty printing Elasticsearch responses\n",
    "\n",
    "Let's add a helper function to print Elasticsearch responses in a readable format."
   ]
  },
  {
   "cell_type": "code",
   "execution_count": null,
   "metadata": {},
   "outputs": [],
   "source": [
    "void PrettyPrint(SearchResponse<Book> searchResponse) => searchResponse.Hits\n",
    "    .Select(x => new { \n",
    "        Title = x.Source.Title,\n",
    "        Score = x.Score,\n",
    "        Rank = x.Rank,\n",
    "        Summary = x.Source.Summary,\n",
    "    })\n",
    "    .DisplayTable();"
   ]
  },
  {
   "cell_type": "markdown",
   "metadata": {},
   "source": [
    "### Setup the Embedding Model\n"
   ]
  },
  {
   "cell_type": "code",
   "execution_count": null,
   "metadata": {},
   "outputs": [],
   "source": [
    "#r \"nuget: Microsoft.Extensions.AI.OpenAI, 9.0.0-preview.*\"\n",
    "#r \"nuget: Azure.AI.OpenAI, 2.0.0\""
   ]
  },
  {
   "cell_type": "code",
   "execution_count": null,
   "metadata": {},
   "outputs": [],
   "source": [
    "using Azure.AI.OpenAI;\n",
    "using Microsoft.Extensions.AI;\n",
    "\n",
    "AzureOpenAIClient aiClient = new AzureOpenAIClient(\n",
    "    new Uri(envs[\"AZURE_OPENAI_ENDPOINT\"]),\n",
    "    new System.ClientModel.ApiKeyCredential(envs[\"AZURE_OPENAI_APIKEY\"]));\n",
    "\n",
    "IEmbeddingGenerator<string,Embedding<float>> generator = aiClient\n",
    "    .AsEmbeddingGenerator(modelId: \"text-embedding-3-small\");\n",
    "\n",
    "var textEmeddingDimension = 384;\n",
    "\n",
    "async Task<float[]> ToEmbedding(string text) {\n",
    "    GeneratedEmbeddings<Embedding<float>> embeddings = await generator\n",
    "        .GenerateAsync([text], new EmbeddingGenerationOptions{\n",
    "            Dimensions = textEmeddingDimension\n",
    "        });\n",
    "\n",
    "    return embeddings.First().Vector.ToArray();\n",
    "}"
   ]
  },
  {
   "cell_type": "markdown",
   "metadata": {},
   "source": [
    "## Querying Documents with Hybrid Search\n",
    "\n",
    "🔐 NOTE: to run the queries that follow you need the book_index dataset from our [00-quick-start.ipynb](./00-quick-start.ipynb). If you haven't worked through the quick start, please follow the steps described there to create an Elasticsearch deployment with the dataset in it, and then come back to run the queries here.\n",
    "\n",
    "Now we need to perform a query using two different search strategies:\n",
    "\n",
    "* Semantic search using the \"all-MiniLM-L6-v2\" embedding model\n",
    "* Keyword search using the \"title\" field\n",
    "\n",
    "We then use *Reciprocal Rank Fusion (RRF)* to balance the scores to provide a final list of documents, ranked in order of relevance. RRF is a ranking algorithm for combining results from different information retrieval strategies.\n",
    "\n",
    "Note tha we use `_rank` to show our top-ranked documents."
   ]
  },
  {
   "cell_type": "code",
   "execution_count": null,
   "metadata": {},
   "outputs": [
    {
     "data": {
      "text/csv": [
       "Title,Score,Rank,Summary\r\n",
       "\"Python Crash Course\",0.032786883,1,\"A fast-paced, no-nonsense guide to programming in Python\"\r\n",
       "\"The Pragmatic Programmer: Your Journey to Mastery\",0.03175403,2,\"A guide to pragmatic programming for software engineers and developers\"\r\n",
       "\"Eloquent JavaScript\",0.016129032,3,\"A modern introduction to programming\"\r\n",
       "\"You Don't Know JS: Up & Going\",0.015873017,4,\"Introduction to JavaScript and programming as a whole\"\r\n",
       "\"JavaScript: The Good Parts\",0.015873017,5,\"A deep dive into the parts of JavaScript that are essential to writing maintainable code\"\r\n",
       "\"The Clean Coder: A Code of Conduct for Professional Programmers\",0.015625,6,\"A guide to professional conduct in the field of software engineering\"\r\n",
       "\"Design Patterns: Elements of Reusable Object-Oriented Software\",0.015384615,7,\"Guide to design patterns that can be used in any object-oriented language\"\r\n"
      ],
      "text/html": [
       "<table><thead><tr><td><span>Title</span></td><td><span>Score</span></td><td><span>Rank</span></td><td><span>Summary</span></td></tr></thead><tbody><tr><td>Python Crash Course</td><td><div class=\"dni-plaintext\"><pre>0.032786883</pre></div></td><td><div class=\"dni-plaintext\"><pre>1</pre></div></td><td>A fast-paced, no-nonsense guide to programming in Python</td></tr><tr><td>The Pragmatic Programmer: Your Journey to Mastery</td><td><div class=\"dni-plaintext\"><pre>0.03175403</pre></div></td><td><div class=\"dni-plaintext\"><pre>2</pre></div></td><td>A guide to pragmatic programming for software engineers and developers</td></tr><tr><td>Eloquent JavaScript</td><td><div class=\"dni-plaintext\"><pre>0.016129032</pre></div></td><td><div class=\"dni-plaintext\"><pre>3</pre></div></td><td>A modern introduction to programming</td></tr><tr><td>You Don&#39;t Know JS: Up &amp; Going</td><td><div class=\"dni-plaintext\"><pre>0.015873017</pre></div></td><td><div class=\"dni-plaintext\"><pre>4</pre></div></td><td>Introduction to JavaScript and programming as a whole</td></tr><tr><td>JavaScript: The Good Parts</td><td><div class=\"dni-plaintext\"><pre>0.015873017</pre></div></td><td><div class=\"dni-plaintext\"><pre>5</pre></div></td><td>A deep dive into the parts of JavaScript that are essential to writing maintainable code</td></tr><tr><td>The Clean Coder: A Code of Conduct for Professional Programmers</td><td><div class=\"dni-plaintext\"><pre>0.015625</pre></div></td><td><div class=\"dni-plaintext\"><pre>6</pre></div></td><td>A guide to professional conduct in the field of software engineering</td></tr><tr><td>Design Patterns: Elements of Reusable Object-Oriented Software</td><td><div class=\"dni-plaintext\"><pre>0.015384615</pre></div></td><td><div class=\"dni-plaintext\"><pre>7</pre></div></td><td>Guide to design patterns that can be used in any object-oriented language</td></tr></tbody></table><style>\r\n",
       ".dni-code-hint {\r\n",
       "    font-style: italic;\r\n",
       "    overflow: hidden;\r\n",
       "    white-space: nowrap;\r\n",
       "}\r\n",
       ".dni-treeview {\r\n",
       "    white-space: nowrap;\r\n",
       "}\r\n",
       ".dni-treeview td {\r\n",
       "    vertical-align: top;\r\n",
       "    text-align: start;\r\n",
       "}\r\n",
       "details.dni-treeview {\r\n",
       "    padding-left: 1em;\r\n",
       "}\r\n",
       "table td {\r\n",
       "    text-align: start;\r\n",
       "}\r\n",
       "table tr { \r\n",
       "    vertical-align: top; \r\n",
       "    margin: 0em 0px;\r\n",
       "}\r\n",
       "table tr td pre \r\n",
       "{ \r\n",
       "    vertical-align: top !important; \r\n",
       "    margin: 0em 0px !important;\r\n",
       "} \r\n",
       "table th {\r\n",
       "    text-align: start;\r\n",
       "}\r\n",
       "</style>"
      ]
     },
     "metadata": {},
     "output_type": "display_data"
    }
   ],
   "source": [
    "var searchQuery = \"python programming\";\n",
    "var queryEmbedding = await ToEmbedding(searchQuery);\n",
    "\n",
    "var searchResponse = await client.SearchAsync<Book>(s => s\n",
    "    .Index(\"book_index\")\n",
    "    .Query(d => d.Match(m => m.Field(f => f.Summary).Query(searchQuery)))\n",
    "    .Knn(d => d\n",
    "        .Field(f => f.TitleVector)\n",
    "        .QueryVector(queryEmbedding)\n",
    "        .k(5)\n",
    "        .NumCandidates(10))\n",
    "    .Rank(r => r.Rrf(rrf => {}))\n",
    ");\n",
    "\n",
    "// DumpRequest(searchResponse);\n",
    "PrettyPrint(searchResponse);\n"
   ]
  }
 ],
 "metadata": {
  "kernelspec": {
   "display_name": ".NET (C#)",
   "language": "C#",
   "name": ".net-csharp"
  },
  "polyglot_notebook": {
   "kernelInfo": {
    "defaultKernelName": "csharp",
    "items": [
     {
      "aliases": [],
      "languageName": "csharp",
      "name": "csharp"
     }
    ]
   }
  }
 },
 "nbformat": 4,
 "nbformat_minor": 2
}
