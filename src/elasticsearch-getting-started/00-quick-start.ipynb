{
 "cells": [
  {
   "cell_type": "markdown",
   "metadata": {},
   "source": [
    "# Semantic Search Quick Start\n",
    "\n",
    "This interactive notebook will introduce you to some basic operations with **Elasticsearch**, using the official `Elastic.Clients.Elasticsearch` .NET  client. You'll perform semantic search using Sentence Transformers for text embedding. Learn how to integrate traditional text-based search with semantic search, for a hybrid search system."
   ]
  },
  {
   "cell_type": "markdown",
   "metadata": {},
   "source": [
    "## Create Elastic Deployment\n",
    "\n",
    "I've notebook to run elastic using *Testcontainers*, navigate [src/_infra/setup-elastic-infrastructure.ipynb](../_infra/setup-elastic-infrastructure.ipynb) to run Elasticsearch container locally."
   ]
  },
  {
   "cell_type": "markdown",
   "metadata": {},
   "source": [
    "### Install packages and import modules"
   ]
  },
  {
   "cell_type": "code",
   "execution_count": null,
   "metadata": {
    "dotnet_interactive": {
     "language": "csharp"
    },
    "polyglot_notebook": {
     "kernelName": "csharp"
    }
   },
   "outputs": [],
   "source": [
    "#r \"nuget: Elastic.Clients.Elasticsearch, 8.15.10\"\n",
    "#r \"nuget: System.Net.Http.Json, 8.0.1\"\n",
    "\n",
    "#!import ./Utils.cs\n",
    "#!import ../_infra/get-connection-string.ipynb"
   ]
  },
  {
   "cell_type": "markdown",
   "metadata": {},
   "source": [
    "## Initialize the Elasticsearch client\n",
    "\n",
    "Now, we need to initialize the Elasticsearch client. We will use the [Elasticsearch client for .NET](https://www.elastic.co/guide/en/elasticsearch/client/net-api/current/index.html) to connect to Elasticsearch."
   ]
  },
  {
   "cell_type": "code",
   "execution_count": null,
   "metadata": {
    "dotnet_interactive": {
     "language": "csharp"
    },
    "polyglot_notebook": {
     "kernelName": "csharp"
    }
   },
   "outputs": [],
   "source": [
    "using Elastic.Transport;\n",
    "using Elastic.Clients.Elasticsearch;\n",
    "using Elastic.Transport.Products.Elasticsearch;\n",
    "\n",
    "var elasticSettings = new ElasticsearchClientSettings(connectionString)\n",
    "    .DisableDirectStreaming()\n",
    "    .ServerCertificateValidationCallback(CertificateValidations.AllowAll);\n",
    "\n",
    "var client = new ElasticsearchClient(elasticSettings);"
   ]
  },
  {
   "cell_type": "markdown",
   "metadata": {},
   "source": [
    "## Test the Client\n",
    "\n",
    "Before you continue, confirm that the client has connected with this test.\n"
   ]
  },
  {
   "cell_type": "code",
   "execution_count": null,
   "metadata": {
    "dotnet_interactive": {
     "language": "csharp"
    },
    "polyglot_notebook": {
     "kernelName": "csharp"
    }
   },
   "outputs": [],
   "source": [
    "var info = await client.InfoAsync();\n",
    "\n",
    "DumpResponse(info);"
   ]
  },
  {
   "cell_type": "markdown",
   "metadata": {},
   "source": [
    "## Setup the Embedding Model\n"
   ]
  },
  {
   "cell_type": "code",
   "execution_count": null,
   "metadata": {
    "dotnet_interactive": {
     "language": "csharp"
    },
    "polyglot_notebook": {
     "kernelName": "csharp"
    }
   },
   "outputs": [],
   "source": [
    "#r \"nuget: Microsoft.Extensions.AI.OpenAI, 9.0.0-preview.*\"\n",
    "#r \"nuget: Azure.AI.OpenAI, 2.0.0\""
   ]
  },
  {
   "cell_type": "code",
   "execution_count": null,
   "metadata": {
    "dotnet_interactive": {
     "language": "csharp"
    },
    "polyglot_notebook": {
     "kernelName": "csharp"
    }
   },
   "outputs": [],
   "source": [
    "using Azure.AI.OpenAI;\n",
    "using Microsoft.Extensions.AI;\n",
    "\n",
    "AzureOpenAIClient aiClient = new AzureOpenAIClient(\n",
    "    new Uri(envs[\"AZURE_OPENAI_ENDPOINT\"]),\n",
    "    new System.ClientModel.ApiKeyCredential(envs[\"AZURE_OPENAI_APIKEY\"]));\n",
    "\n",
    "IEmbeddingGenerator<string,Embedding<float>> generator = aiClient\n",
    "    .AsEmbeddingGenerator(modelId: \"text-embedding-3-small\");\n",
    "\n",
    "var textEmeddingDimension = 384;"
   ]
  },
  {
   "cell_type": "markdown",
   "metadata": {},
   "source": [
    "## Index some test data\n",
    "Our client is set up and connected to our Elastic deployment. Now we need some data to test out the basics of Elasticsearch queries. We'll use a small index of books with the following fields:"
   ]
  },
  {
   "cell_type": "code",
   "execution_count": null,
   "metadata": {
    "dotnet_interactive": {
     "language": "csharp"
    },
    "polyglot_notebook": {
     "kernelName": "csharp"
    }
   },
   "outputs": [],
   "source": [
    "using System.Text.Json.Serialization;\n",
    "\n",
    "public class Book\n",
    "{\n",
    "    [JsonPropertyName(\"title\")]\n",
    "    public string Title { get; set; }\n",
    "\n",
    "    [JsonPropertyName(\"summary\")]\n",
    "    public string Summary { get; set; }\n",
    "\n",
    "    [JsonPropertyName(\"authors\")]\n",
    "    public List<string> Authors { get; set; }\n",
    "\n",
    "    [JsonPropertyName(\"publish_date\")]\n",
    "    public DateTime publish_date { get; set; }\n",
    "\n",
    "    [JsonPropertyName(\"num_reviews\")]\n",
    "    public int num_reviews { get; set; }\n",
    "\n",
    "    [JsonPropertyName(\"publisher\")]\n",
    "    public string Publisher { get; set; }\n",
    "\n",
    "\n",
    "    public float[] TitleVector { get; set; }\n",
    "}"
   ]
  },
  {
   "cell_type": "markdown",
   "metadata": {},
   "source": [
    "## Create an index\n",
    "\n",
    "First ensure that you do not have a previously created index with the name `book_index`."
   ]
  },
  {
   "cell_type": "code",
   "execution_count": null,
   "metadata": {
    "dotnet_interactive": {
     "language": "csharp"
    },
    "polyglot_notebook": {
     "kernelName": "csharp"
    }
   },
   "outputs": [],
   "source": [
    "var deleteIndexResponse = await client.Indices.DeleteAsync(\"book_index\");\n",
    "\n",
    "Dump(deleteIndexResponse);"
   ]
  },
  {
   "cell_type": "markdown",
   "metadata": {},
   "source": [
    "Let's create an Elasticsearch index with the correct mappings for our test data."
   ]
  },
  {
   "cell_type": "code",
   "execution_count": null,
   "metadata": {
    "dotnet_interactive": {
     "language": "csharp"
    },
    "polyglot_notebook": {
     "kernelName": "csharp"
    }
   },
   "outputs": [],
   "source": [
    "using Elastic.Clients.Elasticsearch;\n",
    "using Elastic.Clients.Elasticsearch.IndexManagement;\n",
    "using Elastic.Clients.Elasticsearch.Mapping;\n",
    "\n",
    "var indexResponse = await client.Indices.CreateAsync<Book>(\"book_index\", d =>\n",
    "    d.Mappings(m => m\n",
    "        .Properties(pp => pp\n",
    "            .Text(p => p.Title)\n",
    "            .DenseVector(Infer.Property<Book>(p => p.TitleVector),\n",
    "                d => d\n",
    "                    .Dims(textEmeddingDimension)\n",
    "                    .Index(true)\n",
    "                    .Similarity(DenseVectorSimilarity.Cosine))\n",
    "            .Text(p => p.Summary)\n",
    "            .Date(p => p.publish_date)\n",
    "            .IntegerNumber(p => p.num_reviews)\n",
    "            .Keyword(p => p.Publisher)\n",
    "            .Keyword(p => p.Authors)\n",
    "        )\n",
    "    ));\n",
    "\n",
    "DumpRequest(indexResponse);"
   ]
  },
  {
   "cell_type": "markdown",
   "metadata": {},
   "source": [
    "## Index test data\n",
    "\n",
    "Run the following command to upload some test data, containing information about 10 popular programming books from this dataset."
   ]
  },
  {
   "cell_type": "code",
   "execution_count": null,
   "metadata": {
    "dotnet_interactive": {
     "language": "csharp"
    },
    "polyglot_notebook": {
     "kernelName": "csharp"
    }
   },
   "outputs": [],
   "source": [
    "using System.Net.Http;\n",
    "using System.Net.Http.Json;\n",
    "\n",
    "var http = new HttpClient();\n",
    "var url = \"https://raw.githubusercontent.com/elastic/elasticsearch-labs/main/notebooks/search/data.json\";\n",
    "var books =  await http.GetFromJsonAsync<Book[]>(url);\n",
    "\n",
    "// books.DisplayTable();"
   ]
  },
  {
   "cell_type": "code",
   "execution_count": null,
   "metadata": {
    "dotnet_interactive": {
     "language": "csharp"
    },
    "polyglot_notebook": {
     "kernelName": "csharp"
    }
   },
   "outputs": [],
   "source": [
    "async Task<float[]> ToEmbedding(string text) {\n",
    "    GeneratedEmbeddings<Embedding<float>> embeddings = await generator\n",
    "        .GenerateAsync(text, new EmbeddingGenerationOptions{\n",
    "            AdditionalProperties = new AdditionalPropertiesDictionary{\n",
    "                {\"dimensions\", textEmeddingDimension}\n",
    "            }\n",
    "        });\n",
    "\n",
    "    return embeddings.First().Vector.ToArray();\n",
    "}\n",
    "\n",
    "var embedding = await ToEmbedding(\"The quick brown fox jumps over the lazy dog\");\n",
    "display($\"Dimensions length = {embedding.Length}\");\n"
   ]
  },
  {
   "cell_type": "markdown",
   "metadata": {},
   "source": [
    "`ToEmbedding` will encode the text into a vector on the fly, using the model we initialized earlier."
   ]
  },
  {
   "cell_type": "code",
   "execution_count": null,
   "metadata": {
    "dotnet_interactive": {
     "language": "csharp"
    },
    "polyglot_notebook": {
     "kernelName": "csharp"
    }
   },
   "outputs": [],
   "source": [
    "foreach(var book in books)\n",
    "{\n",
    "    book.TitleVector = await ToEmbedding(book.Title);\n",
    "}"
   ]
  },
  {
   "cell_type": "markdown",
   "metadata": {},
   "source": [
    "Now we can use Bulk API to upload data to Elasticsearch."
   ]
  },
  {
   "cell_type": "code",
   "execution_count": null,
   "metadata": {
    "dotnet_interactive": {
     "language": "csharp"
    },
    "polyglot_notebook": {
     "kernelName": "csharp"
    }
   },
   "outputs": [],
   "source": [
    "var bulkResponse = await client.BulkAsync(\"book_index\", d => d\n",
    "    .IndexMany<Book>(books, (bd, b) => bd.Index(\"book_index\"))\n",
    ");\n",
    "\n",
    "bulkResponse.Display();"
   ]
  },
  {
   "cell_type": "markdown",
   "metadata": {},
   "source": [
    "## Making queries\n",
    "\n",
    "Let's use the keyword search to see if we have relevant data indexed."
   ]
  },
  {
   "cell_type": "code",
   "execution_count": null,
   "metadata": {
    "dotnet_interactive": {
     "language": "csharp"
    },
    "polyglot_notebook": {
     "kernelName": "csharp"
    }
   },
   "outputs": [],
   "source": [
    "var searchResponse = await client.SearchAsync<Book>(s => s\n",
    "    .Index(\"book_index\")\n",
    "    .Query(q => q.Match(m => m.Field(f => f.Title).Query(\"JavaScript\")))\n",
    ");\n",
    "\n",
    "DumpRequest(searchResponse);\n",
    "searchResponse.Documents.Select(x => x.Title).DisplayTable();"
   ]
  },
  {
   "cell_type": "markdown",
   "metadata": {},
   "source": [
    "Now that we have indexed the books, we want to perform a semantic search for books that are similar to a given query. We embed the query and perform a search. "
   ]
  },
  {
   "cell_type": "code",
   "execution_count": null,
   "metadata": {
    "dotnet_interactive": {
     "language": "csharp"
    },
    "polyglot_notebook": {
     "kernelName": "csharp"
    }
   },
   "outputs": [],
   "source": [
    "var searchQuery = \"javascript books\";\n",
    "var queryEmbedding = await ToEmbedding(searchQuery);\n",
    "var searchResponse = await client.SearchAsync<Book>(s => s\n",
    "    .Index(\"book_index\")\n",
    "    .Knn(d => d\n",
    "        .Field(f => f.TitleVector)\n",
    "        .QueryVector(queryEmbedding)\n",
    "        .k(5)\n",
    "        .NumCandidates(100))\n",
    ");\n",
    "\n",
    "var threshold = 0.7;\n",
    "searchResponse.Hits\n",
    "    .Where(x => x.Score > threshold)\n",
    "    .Select(x => new { x.Source.Title, x.Score })\n",
    "    .DisplayTable();"
   ]
  },
  {
   "cell_type": "markdown",
   "metadata": {},
   "source": [
    "## Filtering\n",
    "\n",
    "Filter context is mostly used for filtering structured data. For example, use filter context to answer questions like:\n",
    "\n",
    "* Does this timestamp fall into the range 2015 to 2016?\n",
    "* Is the status field set to \"published\"?\n",
    "\n",
    "Filter context is in effect whenever a query clause is passed to a filter parameter, such as the filter or must_not parameters in a bool query.\n",
    "\n",
    "[Learn more](https://www.elastic.co/guide/en/elasticsearch/reference/current/query-filter-context.html#filter-context) about filter context in the Elasticsearch docs."
   ]
  },
  {
   "cell_type": "markdown",
   "metadata": {},
   "source": [
    "### Example: Keyword Filtering\n",
    "This is an example of adding a keyword filter to the query.\n",
    "\n",
    "The example retrieves the top books that are similar to \"javascript books\" based on their title vectors, and also Addison-Wesley as publisher."
   ]
  },
  {
   "cell_type": "code",
   "execution_count": null,
   "metadata": {
    "dotnet_interactive": {
     "language": "csharp"
    },
    "polyglot_notebook": {
     "kernelName": "csharp"
    }
   },
   "outputs": [],
   "source": [
    "var searchQuery = \"javascript books\";\n",
    "var queryEmbedding = await ToEmbedding(searchQuery);\n",
    "var searchResponse = await client.SearchAsync<Book>(s => s\n",
    "    .Index(\"book_index\")\n",
    "    .Knn(d => d\n",
    "        .Field(f => f.TitleVector)\n",
    "        .QueryVector(queryEmbedding)\n",
    "        .k(5)\n",
    "        .NumCandidates(100)\n",
    "        .Filter(f => f.Term(t => t.Field(p => p.Publisher).Value(\"addison-wesley\"))) \n",
    "    )\n",
    ");\n",
    "\n",
    "searchResponse.Hits\n",
    "    .Select(x => new { x.Source.Title, x.Score })\n",
    "    .DisplayTable(); "
   ]
  }
 ],
 "metadata": {
  "kernelspec": {
   "display_name": ".NET (C#)",
   "language": "C#",
   "name": ".net-csharp"
  },
  "polyglot_notebook": {
   "kernelInfo": {
    "defaultKernelName": "csharp",
    "items": [
     {
      "aliases": [],
      "languageName": "csharp",
      "name": "csharp"
     }
    ]
   }
  }
 },
 "nbformat": 4,
 "nbformat_minor": 2
}
