{
 "cells": [
  {
   "cell_type": "code",
   "execution_count": null,
   "metadata": {
    "dotnet_interactive": {
     "language": "csharp"
    },
    "polyglot_notebook": {
     "kernelName": "csharp"
    }
   },
   "outputs": [],
   "source": [
    "#r \"nuget: Elastic.Clients.Elasticsearch, 8.15.10\"\n",
    "#r \"nuget: System.Net.Http.Json, 8.0.1\"\n",
    "#!import ./Utils.cs\n",
    "#!import ../_infra/get-connection-string.ipynb"
   ]
  },
  {
   "cell_type": "markdown",
   "metadata": {},
   "source": [
    "## Initialize the Elasticsearch client\n",
    "\n",
    "We can instantiate the [Elastic.Clients.Elasticsearch](https://github.com/elastic/elasticsearch-net) client.\n",
    "\n",
    "Make sure you have an instance of Elasticsearch running, see [setup-elastic-infrastructure.ipynb](../_infra/setup-elastic-infrastructure.ipynb) for more details.\n"
   ]
  },
  {
   "cell_type": "code",
   "execution_count": null,
   "metadata": {
    "dotnet_interactive": {
     "language": "csharp"
    },
    "polyglot_notebook": {
     "kernelName": "csharp"
    }
   },
   "outputs": [],
   "source": [
    "using Elastic.Transport;\n",
    "using Elastic.Clients.Elasticsearch;\n",
    "using Elastic.Transport.Products.Elasticsearch;\n",
    "\n",
    "var elasticSettings = new ElasticsearchClientSettings(connectionString)\n",
    "    .DisableDirectStreaming()\n",
    "    .ServerCertificateValidationCallback(CertificateValidations.AllowAll);\n",
    "\n",
    "var client = new ElasticsearchClient(elasticSettings);"
   ]
  },
  {
   "cell_type": "markdown",
   "metadata": {},
   "source": [
    "## Test the Client\n",
    "\n",
    "Before you continue, confirm that the client has connected with this test.\n"
   ]
  },
  {
   "cell_type": "code",
   "execution_count": null,
   "metadata": {
    "dotnet_interactive": {
     "language": "csharp"
    },
    "polyglot_notebook": {
     "kernelName": "csharp"
    }
   },
   "outputs": [],
   "source": [
    "var info = await client.InfoAsync();\n",
    "\n",
    "display(info);"
   ]
  },
  {
   "cell_type": "markdown",
   "metadata": {},
   "source": [
    "## Setup the Embedding Model\n"
   ]
  },
  {
   "cell_type": "code",
   "execution_count": null,
   "metadata": {
    "dotnet_interactive": {
     "language": "csharp"
    },
    "polyglot_notebook": {
     "kernelName": "csharp"
    }
   },
   "outputs": [],
   "source": [
    "#r \"nuget: Microsoft.Extensions.AI.OpenAI, 9.0.0-preview.*\"\n",
    "#r \"nuget: Azure.AI.OpenAI, 2.0.0\"\n",
    "#r \"nuget: dotenv.net, 3.2.1\""
   ]
  },
  {
   "cell_type": "code",
   "execution_count": null,
   "metadata": {},
   "outputs": [],
   "source": [
    "using Azure.AI.OpenAI;\n",
    "using Microsoft.Extensions.AI;\n",
    "\n",
    "IEmbeddingGenerator<string,Embedding<float>> generator =\n",
    "    new AzureOpenAIClient(\n",
    "        new Uri(envs[\"AZURE_OPENAI_ENDPOINT\"]),\n",
    "        new System.ClientModel.ApiKeyCredential(envs[\"AZURE_OPENAI_APIKEY\"]))\n",
    "            .AsEmbeddingGenerator(modelId: \"text-embedding-3-small\");"
   ]
  },
  {
   "cell_type": "markdown",
   "metadata": {},
   "source": [
    "## Index some test data\n",
    "Our client is set up and connected to our Elastic deployment. Now we need some data to test out the basics of Elasticsearch queries. We'll use a small index of books with the following fields"
   ]
  },
  {
   "cell_type": "code",
   "execution_count": null,
   "metadata": {
    "dotnet_interactive": {
     "language": "csharp"
    },
    "polyglot_notebook": {
     "kernelName": "csharp"
    }
   },
   "outputs": [],
   "source": [
    "using System.Text.Json.Serialization;\n",
    "\n",
    "public class Book\n",
    "{\n",
    "    [JsonPropertyName(\"title\")]\n",
    "    public string Title { get; set; }\n",
    "\n",
    "    [JsonPropertyName(\"summary\")]\n",
    "    public string Summary { get; set; }\n",
    "\n",
    "    [JsonPropertyName(\"publish_date\")]\n",
    "    public DateTime PublishDate { get; set; }\n",
    "\n",
    "    [JsonPropertyName(\"num_reviews\")]\n",
    "    public int NumReviews { get; set; }\n",
    "\n",
    "    [JsonPropertyName(\"publisher\")]\n",
    "    public string Publisher { get; set; }\n",
    "\n",
    "\n",
    "    public float[] TitleVector { get; set; }\n",
    "}"
   ]
  },
  {
   "cell_type": "code",
   "execution_count": null,
   "metadata": {
    "dotnet_interactive": {
     "language": "csharp"
    },
    "polyglot_notebook": {
     "kernelName": "csharp"
    }
   },
   "outputs": [],
   "source": [
    "using Elastic.Clients.Elasticsearch;\n",
    "using Elastic.Clients.Elasticsearch.IndexManagement;\n",
    "using Elastic.Clients.Elasticsearch.Mapping;\n",
    "\n",
    "var textEmeddingDimension = 384;\n",
    "\n",
    "const string BookIndex = \"book_index\";\n",
    "var indexDescriptor = new CreateIndexRequestDescriptor<Book>(BookIndex)\n",
    "    .Mappings(m => m\n",
    "        .Properties(pp => pp\n",
    "            .Text(p => p.Title)\n",
    "            .DenseVector(\n",
    "                Infer.Property<Book>(p => p.TitleVector),\n",
    "                d => d.Dims(textEmeddingDimension).Index(true).Similarity(DenseVectorSimilarity.Cosine))\n",
    "            .Text(p => p.Summary)\n",
    "            .Date(p => p.PublishDate)\n",
    "            .IntegerNumber(p => p.NumReviews)\n",
    "            .Keyword(p => p.Publisher)\n",
    "        )\n",
    "    );"
   ]
  },
  {
   "cell_type": "code",
   "execution_count": null,
   "metadata": {
    "dotnet_interactive": {
     "language": "csharp"
    },
    "polyglot_notebook": {
     "kernelName": "csharp"
    }
   },
   "outputs": [],
   "source": [
    "var indexResponse = await client.Indices.CreateAsync<Book>(indexDescriptor);\n",
    "\n",
    "// display(indexResponse);\n",
    "ToJson(DumpGetRequest(indexResponse.DebugInformation))\n",
    "    .DisplayAs(\"application/json\");"
   ]
  },
  {
   "cell_type": "code",
   "execution_count": null,
   "metadata": {
    "dotnet_interactive": {
     "language": "csharp"
    },
    "polyglot_notebook": {
     "kernelName": "csharp"
    }
   },
   "outputs": [],
   "source": [
    "using System.Net.Http;\n",
    "using System.Net.Http.Json;\n",
    "\n",
    "var http = new HttpClient();\n",
    "var url = \"https://raw.githubusercontent.com/elastic/elasticsearch-labs/main/notebooks/search/data.json\";\n",
    "var books =  await http.GetFromJsonAsync<Book[]>(url);\n",
    "\n",
    "display(books);\n"
   ]
  },
  {
   "cell_type": "code",
   "execution_count": null,
   "metadata": {
    "dotnet_interactive": {
     "language": "csharp"
    },
    "polyglot_notebook": {
     "kernelName": "csharp"
    }
   },
   "outputs": [],
   "source": [
    "async Task<float[]> ToEmbedding(string text) {\n",
    "    GeneratedEmbeddings<Embedding<float>> embeddings = await generator\n",
    "        .GenerateAsync(text, new EmbeddingGenerationOptions{\n",
    "            AdditionalProperties = new AdditionalPropertiesDictionary{\n",
    "                {\"dimensions\", textEmeddingDimension}\n",
    "            }\n",
    "        });\n",
    "\n",
    "    return embeddings.First().Vector.ToArray();\n",
    "}\n",
    "\n",
    "var embedding = await ToEmbedding(\"The quick brown fox jumps over the lazy dog\");\n",
    "embedding.Length\n"
   ]
  },
  {
   "cell_type": "code",
   "execution_count": null,
   "metadata": {
    "dotnet_interactive": {
     "language": "csharp"
    },
    "polyglot_notebook": {
     "kernelName": "csharp"
    }
   },
   "outputs": [],
   "source": [
    "foreach(var book in books)\n",
    "{\n",
    "    book.TitleVector = await ToEmbedding(book.Title);\n",
    "    display(book.Title);\n",
    "}"
   ]
  },
  {
   "cell_type": "code",
   "execution_count": null,
   "metadata": {},
   "outputs": [],
   "source": [
    "var bulkResponse = await client.BulkAsync(BookIndex, d => d\n",
    "    .IndexMany<Book>(books, (bd, b) => bd.Index(BookIndex)));\n",
    "\n",
    "bulkResponse.Display();\n",
    "// display(DumpGetRequest(bulkResponse));"
   ]
  },
  {
   "cell_type": "code",
   "execution_count": null,
   "metadata": {
    "dotnet_interactive": {
     "language": "csharp"
    },
    "polyglot_notebook": {
     "kernelName": "csharp"
    }
   },
   "outputs": [],
   "source": [
    "var searchResponse = await client.SearchAsync<Book>(s => s\n",
    "    .Index(BookIndex)\n",
    "    .Query(q => q.Match(m => m.Field(f => f.Title).Query(\"JavaScript\")))\n",
    ");\n",
    "\n",
    "ToJson(DumpGetRequest(searchResponse)).Display();\n",
    "\n",
    "searchResponse.Display();"
   ]
  },
  {
   "cell_type": "code",
   "execution_count": null,
   "metadata": {},
   "outputs": [],
   "source": [
    "\n",
    "var searchQuery = \"JavaScript\";\n",
    "var queryEmbedding = await ToEmbedding(searchQuery);\n",
    "queryEmbedding.Length.Display();\n",
    "var searchResponse = await client.SearchAsync<Book>(s => s\n",
    "    .Index(BookIndex)\n",
    "    .Knn(d => d\n",
    "        .Field(f => f.TitleVector)\n",
    "        .QueryVector(queryEmbedding)\n",
    "        .k(10)\n",
    "        .NumCandidates(100))\n",
    ");\n",
    "\n",
    "ToJson(DumpGetRequest(searchResponse)).Display();\n",
    "\n",
    "searchResponse.Display();"
   ]
  },
  {
   "cell_type": "code",
   "execution_count": null,
   "metadata": {},
   "outputs": [],
   "source": [
    "await client.Indices.DeleteAsync(BookIndex);"
   ]
  }
 ],
 "metadata": {
  "kernelspec": {
   "display_name": ".NET (C#)",
   "language": "C#",
   "name": ".net-csharp"
  },
  "polyglot_notebook": {
   "kernelInfo": {
    "defaultKernelName": "csharp",
    "items": [
     {
      "aliases": [],
      "languageName": "csharp",
      "name": "csharp"
     }
    ]
   }
  }
 },
 "nbformat": 4,
 "nbformat_minor": 2
}
