{
 "cells": [
  {
   "cell_type": "code",
   "execution_count": null,
   "metadata": {
    "dotnet_interactive": {
     "language": "csharp"
    },
    "polyglot_notebook": {
     "kernelName": "csharp"
    }
   },
   "outputs": [],
   "source": [
    "#!import ./common.ipynb\n",
    "\n",
    "using Nest;\n",
    "using Elastic.Transport;\n",
    "using Elastic.Clients.Elasticsearch;\n",
    "using Elastic.Transport.Products.Elasticsearch;\n",
    "using dotenv.net;\n",
    "\n",
    "var variables = DotEnv.Read(new DotEnvOptions(envFilePaths: new[] {\"../.env\"}));\n",
    "\n",
    "if (!variables.TryGetValue(\"PLAYGROUND_CONNECTION_STRING\", out var connectionStringInput)\n",
    "    || string.IsNullOrEmpty(connectionStringInput))\n",
    "{\n",
    "    connectionStringInput = await Microsoft.DotNet.Interactive.Kernel.GetInputAsync(\"Please provide a connection string.\");\n",
    "}\n",
    "\n",
    "var connectionString = new Uri(connectionStringInput);\n",
    "var nestClientSettings = new ConnectionSettings(connectionString)\n",
    "    .DisableDirectStreaming()\n",
    "    .ServerCertificateValidationCallback(CertificateValidations.AllowAll);\n",
    "var elasticSettings = new ElasticsearchClientSettings(connectionString)\n",
    "    .DisableDirectStreaming()\n",
    "    .ServerCertificateValidationCallback(CertificateValidations.AllowAll);\n",
    "\n",
    "var _client = new ElasticClient(nestClientSettings);\n",
    "var client = new ElasticsearchClient(elasticSettings);"
   ]
  }
 ],
 "metadata": {
  "kernelspec": {
   "display_name": ".NET (C#)",
   "language": "C#",
   "name": ".net-csharp"
  },
  "polyglot_notebook": {
   "kernelInfo": {
    "defaultKernelName": "csharp",
    "items": [
     {
      "aliases": [],
      "languageName": "csharp",
      "name": "csharp"
     }
    ]
   }
  }
 },
 "nbformat": 4,
 "nbformat_minor": 2
}
