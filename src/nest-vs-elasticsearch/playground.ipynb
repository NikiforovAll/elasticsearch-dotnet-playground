{
 "cells": [
  {
   "cell_type": "markdown",
   "metadata": {},
   "source": [
    "# Playground for Elasticsearch.NET and NEST clients\n",
    "\n",
    "This playground is a collection of notebooks that demonstrate how to use Elasticsearch.NET and NEST clients.\n",
    "\n",
    "## Prerequisites\n",
    "\n",
    "* Get a connection string to your Elasticsearch instance, you may want to use the local installation, see [setup-elastic-infrastructure.ipynb](./setup-elastic-infrastructure.ipynb)\n",
    "\n",
    "## Scope\n",
    "\n",
    "- Index Management. Mappings\n",
    "- Searching\n",
    "- ✅ Scrolling\n",
    "- Bulk Operations\n",
    "- Aggregations\n",
    "- Scripting"
   ]
  },
  {
   "cell_type": "markdown",
   "metadata": {},
   "source": [
    "## Index Management\n",
    "\n",
    "See the [setup-nest.ipynb](./setup-nest.ipynb) notebook for details.\n",
    "\n",
    "### Breaking changes:\n",
    "\n",
    "* `Elastic.Clients.Elasticsearch:8.15.6` does not support `AutoMap`."
   ]
  },
  {
   "cell_type": "markdown",
   "metadata": {},
   "source": [
    "## Searching for data\n",
    "\n",
    "See the [search.ipynb](./search.ipynb) notebook for details."
   ]
  },
  {
   "cell_type": "markdown",
   "metadata": {},
   "source": [
    "## Scrolling\n",
    "\n",
    "See the [scroll.ipynb](./scroll.ipynb) notebook for details.\n",
    "\n",
    "💡 It is recommended to use the `SearchAsync` API to traverse the index."
   ]
  },
  {
   "cell_type": "markdown",
   "metadata": {},
   "source": []
  }
 ],
 "metadata": {
  "kernelspec": {
   "display_name": ".NET (C#)",
   "language": "C#",
   "name": ".net-csharp"
  },
  "polyglot_notebook": {
   "kernelInfo": {
    "defaultKernelName": "csharp",
    "items": [
     {
      "aliases": [],
      "languageName": "csharp",
      "name": "csharp"
     }
    ]
   }
  }
 },
 "nbformat": 4,
 "nbformat_minor": 2
}
