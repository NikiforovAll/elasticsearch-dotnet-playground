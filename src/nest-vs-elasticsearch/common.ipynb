{
 "cells": [
  {
   "cell_type": "code",
   "execution_count": null,
   "metadata": {
    "dotnet_interactive": {
     "language": "csharp"
    },
    "polyglot_notebook": {
     "kernelName": "csharp"
    }
   },
   "outputs": [],
   "source": [
    "#r \"nuget: NEST\"\n",
    "#r \"nuget: Elastic.Clients.Elasticsearch\"\n",
    "#r \"nuget: Testcontainers.Elasticsearch\"\n",
    "#r \"nuget: XUnit\"\n",
    "#r \"nuget: Bogus\"\n",
    "#r \"nuget: Microsoft.Data.Analysis\"\n",
    "#r \"nuget: dotenv.net\"\n",
    "#r \"nuget: System.Linq.Async\""
   ]
  },
  {
   "cell_type": "code",
   "execution_count": 2,
   "metadata": {
    "dotnet_interactive": {
     "language": "csharp"
    },
    "polyglot_notebook": {
     "kernelName": "csharp"
    }
   },
   "outputs": [],
   "source": [
    "#!import ./Utils.cs\n",
    "\n",
    "public class BlogPost\n",
    "{\n",
    "    public int Id { get; set; }\n",
    "    public string Title { get; set; }\n",
    "    public string Description { get; set; }\n",
    "    public User Author { get; set; }\n",
    "    public DateTime CreatedAt { get; set; }\n",
    "    public bool IsPublished { get; set; }\n",
    "    public Like[] Likes { get; set; }\n",
    "}\n",
    "\n",
    "public class Like\n",
    "{\n",
    "    public int Id { get; set; }\n",
    "    public int PostId { get; set; }\n",
    "    public string AuthorId { get; set; }\n",
    "    public DateTime CreatedAt { get; set; }\n",
    "}\n",
    "\n",
    "public class User\n",
    "{\n",
    "    public int Id { get; set; }\n",
    "    public string Name { get; set; }\n",
    "    public string Email { get; set; }\n",
    "}"
   ]
  }
 ],
 "metadata": {
  "kernelspec": {
   "display_name": ".NET (C#)",
   "language": "C#",
   "name": ".net-csharp"
  },
  "polyglot_notebook": {
   "kernelInfo": {
    "defaultKernelName": "csharp",
    "items": [
     {
      "aliases": [],
      "languageName": "csharp",
      "name": "csharp"
     }
    ]
   }
  }
 },
 "nbformat": 4,
 "nbformat_minor": 2
}
