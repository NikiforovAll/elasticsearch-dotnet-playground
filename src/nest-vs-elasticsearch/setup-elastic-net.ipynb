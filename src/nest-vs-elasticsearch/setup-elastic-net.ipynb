{
 "cells": [
  {
   "cell_type": "code",
   "execution_count": 3,
   "metadata": {
    "dotnet_interactive": {
     "language": "csharp"
    },
    "polyglot_notebook": {
     "kernelName": "csharp"
    }
   },
   "outputs": [],
   "source": [
    "#!import ./get-connection-string.ipynb"
   ]
  },
  {
   "cell_type": "markdown",
   "metadata": {},
   "source": [
    "# Index Management"
   ]
  },
  {
   "cell_type": "markdown",
   "metadata": {},
   "source": [
    "### Create Index"
   ]
  },
  {
   "cell_type": "code",
   "execution_count": 2,
   "metadata": {
    "dotnet_interactive": {
     "language": "csharp"
    },
    "polyglot_notebook": {
     "kernelName": "csharp"
    }
   },
   "outputs": [],
   "source": [
    "using Elastic.Clients.Elasticsearch.IndexManagement;\n",
    "using Elastic.Clients.Elasticsearch;\n",
    "using Elastic.Transport;\n",
    "\n",
    "var indexName = Elastic.Clients.Elasticsearch.IndexName.From<BlogPost>();\n",
    "\n",
    "var elasticSettings = new ElasticsearchClientSettings(connectionString)\n",
    "    .DisableDirectStreaming()\n",
    "    .ServerCertificateValidationCallback(CertificateValidations.AllowAll);\n",
    "\n",
    "elasticSettings.DefaultMappingFor<BlogPost>(s => s.IndexName(\"posts\"));\n",
    "\n",
    "var client = new ElasticsearchClient(elasticSettings);\n"
   ]
  },
  {
   "cell_type": "code",
   "execution_count": 25,
   "metadata": {
    "dotnet_interactive": {
     "language": "csharp"
    },
    "polyglot_notebook": {
     "kernelName": "csharp"
    }
   },
   "outputs": [],
   "source": [
    "using Elastic.Clients.Elasticsearch.Mapping;\n",
    "using Infer = Elastic.Clients.Elasticsearch.Infer;\n",
    "\n",
    "var descriptor = new Elastic.Clients.Elasticsearch.IndexManagement.CreateIndexRequestDescriptor<BlogPost>(indexName)\n",
    "    .Mappings(md => md.Properties(ApplyBlogPostMapping));\n",
    "\n",
    "var createResponse = await client.Indices.CreateAsync(descriptor);\n",
    "DumpResponse(createResponse);\n",
    "\n",
    "void ApplyBlogPostMapping(\n",
    "    Elastic.Clients.Elasticsearch.Mapping.PropertiesDescriptor<BlogPost> descriptor)\n",
    "{\n",
    "    descriptor\n",
    "        .Keyword(p => p.Id)\n",
    "        .Text(p => p.Title)\n",
    "        .Text(p => p.Description)\n",
    "        .Date(p => p.CreatedAt)\n",
    "        .Boolean(p => p.IsPublished)\n",
    "        .Object(p => p.Author, d => d.Properties(\n",
    "            pp => pp\n",
    "                .Keyword(p => p.Author.Id)\n",
    "                .Text(p => p.Author.Name)\n",
    "                .Text(p => p.Author.Email)\n",
    "            )\n",
    "        )\n",
    "        .Object(p => p.Likes, d => d.Properties(\n",
    "            pp => pp\n",
    "                .Keyword(Infer.Property<Like>(p => p.Id))\n",
    "                .Keyword(Infer.Property<Like>(p => p.PostId))\n",
    "                .Text(Infer.Property<Like>(p => p.AuthorId))\n",
    "                .Date(Infer.Property<Like>(p => p.CreatedAt))\n",
    "            )\n",
    "        );\n",
    "}"
   ]
  },
  {
   "cell_type": "markdown",
   "metadata": {},
   "source": [
    "### Delete Index"
   ]
  },
  {
   "cell_type": "code",
   "execution_count": 9,
   "metadata": {
    "dotnet_interactive": {
     "language": "csharp"
    },
    "polyglot_notebook": {
     "kernelName": "csharp"
    }
   },
   "outputs": [],
   "source": [
    "var deleteResponse = await client.Indices.DeleteAsync<BlogPost>();\n",
    "\n",
    "DumpResponse(deleteResponse);"
   ]
  },
  {
   "cell_type": "markdown",
   "metadata": {},
   "source": [
    "### Seed Data"
   ]
  },
  {
   "cell_type": "code",
   "execution_count": 4,
   "metadata": {
    "dotnet_interactive": {
     "language": "csharp"
    },
    "polyglot_notebook": {
     "kernelName": "csharp"
    }
   },
   "outputs": [],
   "source": [
    "Bogus.Randomizer.Seed = new Random(123);\n",
    "\n",
    "var faker = new Bogus.Faker<BlogPost>()\n",
    "    .RuleFor(p => p.Id, f => f.Random.Number(int.MaxValue))\n",
    "    .RuleFor(p => p.Title, f => f.Commerce.ProductName())\n",
    "    .RuleFor(p => p.Description, f => f.Lorem.Paragraph())\n",
    "    .RuleFor(p => p.Author, f => f.Name.FullName())\n",
    "    .RuleFor(p => p.CreatedAt, f => f.Date.Past());\n",
    "\n",
    "var posts = faker.Generate(1000);"
   ]
  },
  {
   "cell_type": "code",
   "execution_count": 5,
   "metadata": {
    "dotnet_interactive": {
     "language": "csharp"
    },
    "polyglot_notebook": {
     "kernelName": "csharp"
    }
   },
   "outputs": [],
   "source": [
    "var bulkResponse = await _client.BulkAsync(b => b\n",
    "    .Index(PostsIndex)\n",
    "    .IndexMany(posts)\n",
    ");\n",
    "\n",
    "display(bulkResponse.Errors);"
   ]
  },
  {
   "cell_type": "code",
   "execution_count": 28,
   "metadata": {
    "dotnet_interactive": {
     "language": "csharp"
    },
    "polyglot_notebook": {
     "kernelName": "csharp"
    }
   },
   "outputs": [],
   "source": [
    "DumpResponse(bulkResponse);"
   ]
  },
  {
   "cell_type": "code",
   "execution_count": null,
   "metadata": {
    "dotnet_interactive": {
     "language": "csharp"
    },
    "polyglot_notebook": {
     "kernelName": "csharp"
    }
   },
   "outputs": [],
   "source": []
  }
 ],
 "metadata": {
  "kernelspec": {
   "display_name": ".NET (C#)",
   "language": "C#",
   "name": ".net-csharp"
  },
  "polyglot_notebook": {
   "kernelInfo": {
    "defaultKernelName": "csharp",
    "items": [
     {
      "aliases": [],
      "languageName": "csharp",
      "name": "csharp"
     }
    ]
   }
  }
 },
 "nbformat": 4,
 "nbformat_minor": 2
}
