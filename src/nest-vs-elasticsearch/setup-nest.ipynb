{
 "cells": [
  {
   "cell_type": "code",
   "execution_count": 3,
   "metadata": {
    "dotnet_interactive": {
     "language": "csharp"
    },
    "polyglot_notebook": {
     "kernelName": "csharp"
    }
   },
   "outputs": [],
   "source": [
    "const string PostsIndex = \"posts\";\n",
    "\n",
    "#!import ./setup-clients.ipynb"
   ]
  },
  {
   "cell_type": "markdown",
   "metadata": {},
   "source": [
    "# Index Management"
   ]
  },
  {
   "cell_type": "markdown",
   "metadata": {},
   "source": [
    "### Create Index"
   ]
  },
  {
   "cell_type": "code",
   "execution_count": 2,
   "metadata": {
    "dotnet_interactive": {
     "language": "csharp"
    },
    "polyglot_notebook": {
     "kernelName": "csharp"
    }
   },
   "outputs": [],
   "source": [
    "var createResponse = await _client.Indices.CreateAsync(\n",
    "    PostsIndex, c => c.Map<BlogPost>(m => m.AutoMap()));\n",
    "\n",
    "DumpResponse(createResponse);"
   ]
  },
  {
   "cell_type": "markdown",
   "metadata": {},
   "source": [
    "### Get Index Info"
   ]
  },
  {
   "cell_type": "code",
   "execution_count": 3,
   "metadata": {
    "dotnet_interactive": {
     "language": "csharp"
    },
    "polyglot_notebook": {
     "kernelName": "csharp"
    }
   },
   "outputs": [],
   "source": [
    "var dataIndexResponse = await client.Indices.GetAsync(PostsIndex);\n",
    "var dataIndex = dataIndexResponse.Indices.First().Value;\n",
    "\n",
    "DumpResponse(dataIndexResponse);\n",
    "// display(dataIndex.Mappings.Properties);"
   ]
  },
  {
   "cell_type": "markdown",
   "metadata": {},
   "source": [
    "### Delete Index"
   ]
  },
  {
   "cell_type": "code",
   "execution_count": 9,
   "metadata": {
    "dotnet_interactive": {
     "language": "csharp"
    },
    "polyglot_notebook": {
     "kernelName": "csharp"
    }
   },
   "outputs": [],
   "source": [
    "var response = await client.Indices.DeleteAsync(PostsIndex);\n",
    "DumpResponse(response);"
   ]
  },
  {
   "cell_type": "markdown",
   "metadata": {},
   "source": [
    "### Seed Data"
   ]
  },
  {
   "cell_type": "code",
   "execution_count": 4,
   "metadata": {
    "dotnet_interactive": {
     "language": "csharp"
    },
    "polyglot_notebook": {
     "kernelName": "csharp"
    }
   },
   "outputs": [],
   "source": [
    "Bogus.Randomizer.Seed = new Random(123);\n",
    "\n",
    "var faker = new Bogus.Faker<BlogPost>()\n",
    "    .RuleFor(p => p.Id, f => f.Random.Number(int.MaxValue))\n",
    "    .RuleFor(p => p.Title, f => f.Commerce.ProductName())\n",
    "    .RuleFor(p => p.Description, f => f.Lorem.Paragraph())\n",
    "    .RuleFor(p => p.Author, f => f.Name.FullName())\n",
    "    .RuleFor(p => p.CreatedAt, f => f.Date.Past());\n",
    "\n",
    "var posts = faker.Generate(1000);"
   ]
  },
  {
   "cell_type": "code",
   "execution_count": null,
   "metadata": {
    "dotnet_interactive": {
     "language": "csharp"
    },
    "polyglot_notebook": {
     "kernelName": "csharp"
    }
   },
   "outputs": [],
   "source": [
    "using Microsoft.Data.Analysis;\n",
    "\n",
    "var ids = new Int32DataFrameColumn(\"Id\", posts.Select(p => p.Id));\n",
    "var createdAt = new DateTimeDataFrameColumn(\"CreatedAt\", posts.Select(p => p.CreatedAt));\n",
    "var titles = new StringDataFrameColumn(\"Title\", posts.Select(p => p.Title));\n",
    "var descriptions = new StringDataFrameColumn(\"Description\", posts.Select(p => p.Description));\n",
    "var authors = new StringDataFrameColumn(\"Author\", posts.Select(p => p.Author));\n",
    "var dataFrame = new DataFrame(ids, createdAt, titles, descriptions, authors);\n",
    "\n",
    "display(dataFrame);"
   ]
  },
  {
   "cell_type": "code",
   "execution_count": 5,
   "metadata": {
    "dotnet_interactive": {
     "language": "csharp"
    },
    "polyglot_notebook": {
     "kernelName": "csharp"
    }
   },
   "outputs": [],
   "source": [
    "var bulkResponse = await _client.BulkAsync(b => b\n",
    "    .Index(PostsIndex)\n",
    "    .IndexMany(posts)\n",
    ");\n",
    "\n",
    "display(bulkResponse.Errors);"
   ]
  },
  {
   "cell_type": "code",
   "execution_count": null,
   "metadata": {
    "dotnet_interactive": {
     "language": "csharp"
    },
    "polyglot_notebook": {
     "kernelName": "csharp"
    }
   },
   "outputs": [],
   "source": [
    "DumpResponse(bulkResponse);"
   ]
  }
 ],
 "metadata": {
  "kernelspec": {
   "display_name": ".NET (C#)",
   "language": "C#",
   "name": ".net-csharp"
  },
  "polyglot_notebook": {
   "kernelInfo": {
    "defaultKernelName": "csharp",
    "items": [
     {
      "aliases": [],
      "languageName": "csharp",
      "name": "csharp"
     }
    ]
   }
  }
 },
 "nbformat": 4,
 "nbformat_minor": 2
}
